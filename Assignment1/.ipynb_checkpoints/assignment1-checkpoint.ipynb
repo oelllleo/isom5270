{
 "cells": [
  {
   "cell_type": "markdown",
   "metadata": {},
   "source": []
  },
  {
   "cell_type": "markdown",
   "metadata": {},
   "source": [
    "# Comapany Background:\n",
    "\n",
    "Select  Collections,  Inc.,  was  a  start-up  subsidiary  of  a  major credit  card  company\n",
    "\n",
    "***The company  purchased  distressed  consumer  debt  at  discounted  rates from  such  major  credit  card***\n",
    "and  then  \n",
    "used  data-driven  decision-making and dynamic value assessment to optimize the collection processes associated with the purchased accounts\n",
    "\n",
    "For each purchased account, ***the first decision was whether to resell or attempt to collect***. For accounts the company decided to attempt to collect, a host of tactics was available for use in any sequence and with any frequency. \n",
    "\n",
    "Like other collection companies, Select Collections used ***the telephone  and  the  legal  system***  as  its  two  major  collection  tools.  \n",
    "\n"
   ]
  },
  {
   "cell_type": "markdown",
   "metadata": {},
   "source": [
    "# Goal:\n",
    "\n",
    "\n",
    "I want to see if we can ***build a model to predict how much money we will collect from  delinquent  accounts.***  Such  a  model  would  prove  very  useful in  ***deciding which accounts to purchase and how much to pay.***\n",
    "\n",
    "There are ***3,570*** accounts in a data set that I will call the training set\n",
    "\n",
    "***We  purchased  these  accounts  and  then  collected  the  amount  shown  in  the  last column, labeled totalpay.*** \n",
    "Totalpay is the variable of interest. I want you to ***come up with a way to forecast totalpay.***\n",
    "\n",
    "I  want  you  to  use  the  model  you  come  up with to predict totalpay for the 3,570 accounts in a separate worksheet of data that I will call the test set. \n",
    "\n",
    "I  want  an  Excel  file  from  you  containing a single column of numbers. \n",
    "***In cell A1, please put the adjusted R-squared for your model.***\n",
    "***In cells A2 through A3571, put your predicted values for the accounts in the test data set in ID order.***\n",
    "\n"
   ]
  },
  {
   "cell_type": "markdown",
   "metadata": {},
   "source": [
    "# Datadict: \n",
    "![alt text](datadict.png \"data dict\")"
   ]
  },
  {
   "cell_type": "markdown",
   "metadata": {},
   "source": [
    "# Data description:\n",
    "\n",
    "![alt text](description.png \"data description\")"
   ]
  },
  {
   "cell_type": "markdown",
   "metadata": {},
   "source": [
    "# Colume Comparation to total pay\n",
    "\n",
    "![alt text](col_comparasion_totalpay.png \"colume vs totalpay description\")"
   ]
  },
  {
   "cell_type": "markdown",
   "metadata": {},
   "source": [
    "# Col vs Col description\n",
    "![alt text](col_to_col_relationship.png \"col vs col description\")"
   ]
  },
  {
   "cell_type": "markdown",
   "metadata": {},
   "source": [
    "# Business Understanding\n"
   ]
  },
  {
   "cell_type": "markdown",
   "metadata": {},
   "source": [
    "# Understanding the data\n",
    "#### From data dict :\n",
    "what col should be care?\n",
    "\n",
    "#### from data description:\n",
    "data distrbution is fair ? \n",
    "fair in total\n",
    "rollout is also important ?\n",
    "not fair\n",
    "\n",
    "#### from col to total pay part we now only 4 cols are not well distributed\n",
    "\n",
    "inacscr: The natural log of the ***accessscr***\n",
    "\n",
    "***accessscr***: The account’s accessibility score, an a priori estimation of how likely it is that the accountholder is reached via phone.\n",
    "bureauscr: The output of an in-house prediction model based on the likelihood of receiving payments from the accountholder using credit-bureau attributes as predictors \n",
    "\n",
    "numcalls: The number of telephone calls made (to date) to the accountholder\n",
    "\n",
    "numrpcs: The number of “right-party connects” or phone calls in which the collection agent speaks with the accountholder \n",
    "\n",
    "#### how about col to col ?\n",
    "\n",
    "what grid means to me ?\n"
   ]
  },
  {
   "cell_type": "markdown",
   "metadata": {},
   "source": [
    "# Data Preparation\n",
    "\n",
    "From ***Understanding the data parts***, already shown the data related accessibility is important"
   ]
  },
  {
   "cell_type": "code",
   "execution_count": null,
   "metadata": {},
   "outputs": [],
   "source": [
    "\n",
    "## import pacakge\n",
    "import pandas as pd\n",
    "import numpy as np\n",
    "import matplotlib.pyplot as plt\n",
    "import seaborn as sns\n",
    "from sklearn.model_selection import train_test_split\n",
    "from sklearn.ensemble import RandomForestRegressor\n",
    "from sklearn.preprocessing import OneHotEncoder\n",
    "from sklearn.compose import ColumnTransformer\n",
    "from sklearn.pipeline import Pipeline\n",
    "from sklearn.metrics import mean_squared_error\n",
    "from sklearn.metrics import mean_absolute_percentage_error\n",
    "\n"
   ]
  },
  {
   "cell_type": "markdown",
   "metadata": {},
   "source": [
    "# Modeling "
   ]
  },
  {
   "cell_type": "markdown",
   "metadata": {},
   "source": [
    "#### Representation\n",
    "\n",
    "What algorithm we are using ? at least it support R-squared\n",
    "\n",
    "Linear Regression: Linear regression is a simple and commonly used algorithm that predicts a continuous target variable based on one or more independent variables.\n",
    "\n",
    "Polynomial Regression: Polynomial regression is a form of regression analysis in which the relationship between the independent variable x and the dependent variable y is modelled as an nth degree polynomial. "
   ]
  },
  {
   "cell_type": "code",
   "execution_count": null,
   "metadata": {},
   "outputs": [],
   "source": [
    "data = pd.read_csv('Labeled_data.csv')\n",
    "\n",
    "# Define features and target variable\n",
    "X = data[['state', 'zip','rollout','cobal','collscr','cs','accessscr','lnacscr','bureauscr','eaglemod','numcalls','numrpcs']]\n",
    "y = data['totalpay']\n",
    "\n",
    "# Split the data into training and testing sets\n",
    "X_train, X_test, y_train, y_test = train_test_split(X, y, test_size=0.2, random_state=1337)\n",
    "X_train_encode = pd.get_dummies(X_train, columns=['state', 'zip', 'rollout', 'collscr'],drop_first=True)\n",
    "\n",
    "## Train the data \n",
    "model = RandomForestRegressor(max_depth=6, min_samples_split=15, min_samples_leaf=5, random_state=1337)\n",
    "model.fit(X_train_encode, y_train)\n",
    "\n"
   ]
  },
  {
   "cell_type": "code",
   "execution_count": null,
   "metadata": {},
   "outputs": [],
   "source": [
    "## use the test set \n",
    "X_test_encode = pd.get_dummies(X_test, columns=['state', 'zip', 'rollout', 'collscr'],drop_first=True)\n",
    "X_test_encode = X_test_encode.reindex(columns=X_train_encode.columns, fill_value=0)\n",
    "predictions = model.predict(X_test_encode)\n",
    "X_test.to_excel('test_feature.xlsx', index=False)\n",
    "y_test.to_excel('test_target.xlsx', index=False)\n",
    "pd.DataFrame(predictions, columns=['totalpay']).to_excel('predict_target.xlsx', index=False)\n"
   ]
  },
  {
   "cell_type": "markdown",
   "metadata": {},
   "source": [
    "#### Optimization"
   ]
  },
  {
   "cell_type": "markdown",
   "metadata": {},
   "source": [
    "According to the stats it is weird. but the model is generate from professor. so no need to do Optimization "
   ]
  },
  {
   "cell_type": "markdown",
   "metadata": {},
   "source": [
    "#### Evaluation"
   ]
  },
  {
   "cell_type": "markdown",
   "metadata": {},
   "source": [
    "Same as Optimization parts. but having some question on it."
   ]
  },
  {
   "cell_type": "markdown",
   "metadata": {},
   "source": [
    "***Q1 : What is the mean absolute percentage error (MAPE) of the predictions made by the deployed model? Enter your answer as a rounded integer. For example, if the MAPE is 20.6%, you should enter 21 (not 0.206).***"
   ]
  },
  {
   "cell_type": "code",
   "execution_count": null,
   "metadata": {},
   "outputs": [],
   "source": [
    "# Calculate mean squared error\n",
    "mse = mean_squared_error(y_test, predictions)\n",
    "print(f\"Mean Squared Error on test set: {mse}\")\n",
    "\n",
    "# Calculate mean squared error\n",
    "msep = mean_absolute_percentage_error(y_test, predictions)\n",
    "print(f\"Mean Absolute Percentage Error on test set: {msep*100} %\")"
   ]
  },
  {
   "cell_type": "markdown",
   "metadata": {},
   "source": [
    "***Q2 : If we had perfect predictions for totalpay, what decision rule (expressed as an inequality) should we use to decide which accounts to purchase? If the inequality is met, we purchase; otherwise, we do not. For example, you might choose totalpay > 800.*** \n",
    "\n",
    "\n",
    "***Answer***: Since the reveunue = total_pay - cobal > 0  == revenue without operation cost \n",
    "and the operation cost is not visable on the case.  \n",
    "So just simply take condition ***total_pay - cobal * 0.25 > 0***"
   ]
  },
  {
   "cell_type": "markdown",
   "metadata": {},
   "source": [
    "***Q3 Apply the decision rule you proposed in the previous question to the test set using the predictions from the deployed model.***\n",
    "\n",
    "***Q3.1 What percentage of cases indicated a purchase, but actually resulted in a loss? (Enter your answer as a rounded integer (e.g., 82 for 81.64%).)***"
   ]
  },
  {
   "cell_type": "code",
   "execution_count": null,
   "metadata": {},
   "outputs": [],
   "source": [
    "#### ((prediction total_pay) - real total_pay - cobal < 0 \n",
    "# Calculate the difference between the two arrays\n",
    "condition = [pred - cobal*0.25 for pred, cobal in zip(predictions, X_test['cobal'])]\n",
    "# Create a new DataFrame with the differences\n",
    "condition_df = pd.DataFrame({'Action': condition, 'Real_Profit': y_test - X_test['cobal']*0.25 })\n",
    "# Print or display the DataFrame with differences\n",
    "condition_df.to_excel('confusion_matrix.xlsx', index=False)\n"
   ]
  },
  {
   "cell_type": "code",
   "execution_count": null,
   "metadata": {},
   "outputs": [],
   "source": [
    "# Percentage\n",
    "loss_df_percentage = condition_df[(condition_df['Action'] > 0) & (condition_df['Real_Profit'] < 0)].shape[0] / condition_df[condition_df['Action'] > 0].shape[0]\n",
    "print(f\"Loss Percentage Error on test set: {loss_df_percentage*100} %\")"
   ]
  },
  {
   "cell_type": "markdown",
   "metadata": {},
   "source": [
    "***Q3.2 What percentage of cases indicated not to purchase, but actually resulted in missed opportunities? (Enter your answer as a rounded integer (e.g., 82 for 81.64%).)***"
   ]
  },
  {
   "cell_type": "code",
   "execution_count": null,
   "metadata": {},
   "outputs": [],
   "source": [
    "##  total_pay - (prediction total_pay) > 0 == missed opportunites \n",
    "# Calculate the difference between the two arrays\n",
    "# Create a new DataFrame with the differences\n",
    "missed_opportunites_df_percentage = condition_df[(condition_df['Action'] < 0) & (condition_df['Real_Profit'] > 0)].shape[0] / condition_df[condition_df['Action'] < 0].shape[0]\n",
    "print(f\"Missed opportunites Percentage on test set: {missed_opportunites_df_percentage*100} %\")"
   ]
  },
  {
   "cell_type": "markdown",
   "metadata": {},
   "source": [
    "***Q4. Suppose we want to use this predictive model and decision rule as our data-driven solution to decide which of 3,570 accounts to buy. Based on the test set where you applied this solution, provide a 95% confidence interval for the expected profit. Round your final answer to the nearest 10,000 and express it as integers. For example, if the confidence interval goes from $-32,124.34 to $57,241.32, you would enter -30000 and 60000.***"
   ]
  },
  {
   "cell_type": "markdown",
   "metadata": {},
   "source": [
    "|  | Positive | Negative |\n",
    "| :-----| :----: | :----: |\n",
    "| Buy | totalpay-(cobal * 0.25) | totalpay-( cobal * 0.25 )  |\n",
    "| Not Buy | 0 ** | 0 ** |\n",
    "\n",
    "\\ * Since the totalpay could 0 or some. so should not be = - cobal\n",
    "\n",
    "\\ ** Not buying =  no cost"
   ]
  },
  {
   "cell_type": "code",
   "execution_count": null,
   "metadata": {},
   "outputs": [],
   "source": [
    "condition_df.describe()"
   ]
  },
  {
   "cell_type": "code",
   "execution_count": null,
   "metadata": {},
   "outputs": [],
   "source": [
    "\n",
    "from scipy import stats\n",
    "\n",
    "profit_df = condition_df\n",
    "profit_df.loc[(condition_df['Action'] < 0),'Real_Profit'] = 0\n",
    "profit_df.to_excel('a.xlsx', index=False)\n",
    "\n",
    "\n",
    "# Calculate mean and standard deviation\n",
    "mean_profit = profit_df['Real_Profit'].mean()\n",
    "std_dev = profit_df['Real_Profit'].std()\n",
    "n = profit_df['Real_Profit'].count()\n",
    "print(\"Mean:\")\n",
    "print(mean_profit)\n",
    "print(\"SD\")\n",
    "print(std_dev)\n",
    "print(\"Testset size\")\n",
    "print(n)\n",
    "\n",
    "# Calculate Standard Error\n",
    "se = std_dev / np.sqrt(3570)\n",
    "\n",
    "# Z-score for 95% confidence interval\n",
    "z_score = stats.norm.ppf(0.975)\n",
    "\n",
    "# Margin of Error\n",
    "me = z_score * se\n",
    "\n",
    "# Confidence Interval\n",
    "lower_bound = mean_profit - me\n",
    "upper_bound = mean_profit + me\n",
    "# Print the results\n",
    "print(\"LB and UB\")\n",
    "print(lower_bound *3570 , upper_bound*3570)\n"
   ]
  },
  {
   "cell_type": "markdown",
   "metadata": {},
   "source": [
    "# Business Perspective Question\n",
    "\n",
    "***Q5 From a business perspective, do you believe this data-driven solution adds value? Please justify your answer.***"
   ]
  },
  {
   "cell_type": "markdown",
   "metadata": {},
   "source": []
  },
  {
   "cell_type": "markdown",
   "metadata": {},
   "source": [
    "***Q6 In what follows, you'll work on improving the current solution for selecting accounts to purchase. Choose an appropriate performance measure (e.g., accuracy, precision, recall) to assess your progress. Briefly justify your choice.***"
   ]
  },
  {
   "cell_type": "markdown",
   "metadata": {},
   "source": [
    "***Q7 Improve the current solution based on the performance measure you selected. Provide a brief summary of the various approaches you attempted. Describe your best-performing solution and how it compares to the original in terms of performance.*** "
   ]
  },
  {
   "cell_type": "markdown",
   "metadata": {},
   "source": [
    "***Q8 Apply your best-performing solution to determine which accounts to purchase from the unlabeled data. Submit your results in a CSV file named decisions.csv. This file must have two columns: the first column, acctid, should contain the account IDs, and the second column, decision, should include 1 for accounts you choose to purchase and 0 for those you do not. Refer to decisions_EXAMPLE.csv Download decisions_EXAMPLE.csv for the correct format.***\n",
    "\n",
    "***Ensure your file is correctly formatted. Common errors to avoid include missing columns, additional unnecessary columns, incorrect column headers (e.g., \"Decision\" instead of \"decision\"), submitting an Excel file instead of a CSV, submitting a file with a different number of accounts than required, and submitting decisions on the test set instead of the unlabeled data.***\n",
    "\n",
    "***Grading Criteria:***\n",
    "\n",
    "1 point: Correct file format.\n",
    "2 points: Correct format and better performance than the original solution.\n",
    "3 points: Correct format and performance exceeding at least 80% of the class.***"
   ]
  },
  {
   "cell_type": "code",
   "execution_count": 1,
   "metadata": {},
   "outputs": [
    {
     "ename": "NameError",
     "evalue": "name 'X_train_encode' is not defined",
     "output_type": "error",
     "traceback": [
      "\u001b[0;31m---------------------------------------------------------------------------\u001b[0m",
      "\u001b[0;31mNameError\u001b[0m                                 Traceback (most recent call last)",
      "Cell \u001b[0;32mIn[1], line 28\u001b[0m\n\u001b[1;32m     24\u001b[0m         mae \u001b[38;5;241m=\u001b[39m (tree_model\u001b[38;5;241m.\u001b[39mpredict(X_test) \u001b[38;5;241m-\u001b[39m y_test)\u001b[38;5;241m.\u001b[39mabs()\u001b[38;5;241m.\u001b[39mmean()\n\u001b[1;32m     25\u001b[0m         \u001b[38;5;28mprint\u001b[39m(\u001b[38;5;124mf\u001b[39m\u001b[38;5;124m\"\u001b[39m\u001b[38;5;124mMAE of Tree Model (test): \u001b[39m\u001b[38;5;132;01m{\u001b[39;00mmae\u001b[38;5;132;01m:\u001b[39;00m\u001b[38;5;124m.2f\u001b[39m\u001b[38;5;132;01m}\u001b[39;00m\u001b[38;5;124m\"\u001b[39m)\n\u001b[1;32m     27\u001b[0m interact(bestHyperParamentInRandomForestRegressor, \n\u001b[0;32m---> 28\u001b[0m          X_train\u001b[38;5;241m=\u001b[39mwidgets\u001b[38;5;241m.\u001b[39mfixed(\u001b[43mX_train_encode\u001b[49m), \n\u001b[1;32m     29\u001b[0m          y_train\u001b[38;5;241m=\u001b[39mwidgets\u001b[38;5;241m.\u001b[39mfixed(y_train), \n\u001b[1;32m     30\u001b[0m          X_test\u001b[38;5;241m=\u001b[39mwidgets\u001b[38;5;241m.\u001b[39mfixed(X_test_encode), \n\u001b[1;32m     31\u001b[0m          y_test\u001b[38;5;241m=\u001b[39mwidgets\u001b[38;5;241m.\u001b[39mfixed(y_test), \n\u001b[1;32m     32\u001b[0m          max_depth\u001b[38;5;241m=\u001b[39mwidgets\u001b[38;5;241m.\u001b[39mIntSlider(\u001b[38;5;28mmin\u001b[39m\u001b[38;5;241m=\u001b[39m\u001b[38;5;241m1\u001b[39m, \u001b[38;5;28mmax\u001b[39m\u001b[38;5;241m=\u001b[39m\u001b[38;5;241m10\u001b[39m, step\u001b[38;5;241m=\u001b[39m\u001b[38;5;241m1\u001b[39m, value\u001b[38;5;241m=\u001b[39m\u001b[38;5;241m6\u001b[39m), \n\u001b[1;32m     33\u001b[0m          min_samples_split\u001b[38;5;241m=\u001b[39mwidgets\u001b[38;5;241m.\u001b[39mIntSlider(\u001b[38;5;28mmin\u001b[39m\u001b[38;5;241m=\u001b[39m\u001b[38;5;241m2\u001b[39m, \u001b[38;5;28mmax\u001b[39m\u001b[38;5;241m=\u001b[39m\u001b[38;5;241m100\u001b[39m, step\u001b[38;5;241m=\u001b[39m\u001b[38;5;241m1\u001b[39m, value\u001b[38;5;241m=\u001b[39m\u001b[38;5;241m15\u001b[39m), \n\u001b[1;32m     34\u001b[0m          min_samples_leaf\u001b[38;5;241m=\u001b[39mwidgets\u001b[38;5;241m.\u001b[39mIntSlider(\u001b[38;5;28mmin\u001b[39m\u001b[38;5;241m=\u001b[39m\u001b[38;5;241m1\u001b[39m, \u001b[38;5;28mmax\u001b[39m\u001b[38;5;241m=\u001b[39m\u001b[38;5;241m50\u001b[39m, step\u001b[38;5;241m=\u001b[39m\u001b[38;5;241m1\u001b[39m, value\u001b[38;5;241m=\u001b[39m\u001b[38;5;241m5\u001b[39m), \n\u001b[1;32m     35\u001b[0m          plot_train\u001b[38;5;241m=\u001b[39m\u001b[38;5;28;01mTrue\u001b[39;00m, \n\u001b[1;32m     36\u001b[0m          plot_test\u001b[38;5;241m=\u001b[39m\u001b[38;5;28;01mFalse\u001b[39;00m);\n",
      "\u001b[0;31mNameError\u001b[0m: name 'X_train_encode' is not defined"
     ]
    }
   ],
   "source": [
    "## Direction 1: optimizing the Random forest \n",
    "#### find does there has any better hyperparameter first\n",
    "from ipywidgets import interact # type: ignore\n",
    "import ipywidgets as widgets # type: ignore\n",
    "\n",
    "# Define the parameter grid to search\n",
    "## RandomForestRegressor(max_depth=6, min_samples_split=15, min_samples_leaf=5, random_state=1337)\n",
    "def bestHyperParamentInRandomForestRegressor(X_train, y_train, X_test, y_test,max_depth, min_samples_split, min_samples_leaf, plot_train, plot_test) :\n",
    "        \n",
    "    fig, ax = plt.subplots(figsize=(8, 7), dpi=80)\n",
    "    if plot_train:\n",
    "        ax.scatter(X_train.temp, y_train, label=\"Train\", color=\"orange\")\n",
    "    if plot_test:\n",
    "        ax.scatter(X_test.temp, y_test, label=\"Test\", color=\"blue\")\n",
    "\n",
    "    tree_model = RandomForestRegressor(max_depth=max_depth, min_samples_split=min_samples_split, min_samples_leaf=min_samples_leaf, random_state=1337)\n",
    "    tree_model = tree_model.fit(X_train, y_train)\n",
    "    tree_pred = tree_model.predict(X_test)\n",
    "    ax.plot(X_test['totalpay'], tree_pred, color=\"green\", label=\"Tree prediction\")\n",
    "    if plot_train:\n",
    "        mae = (tree_model.predict(X_train) - y_train).abs().mean()\n",
    "        print(f\"MAE of Tree Model (train): {mae:.2f}\")\n",
    "    if plot_test:\n",
    "        mae = (tree_model.predict(X_test) - y_test).abs().mean()\n",
    "        print(f\"MAE of Tree Model (test): {mae:.2f}\")\n",
    "\n",
    "interact(bestHyperParamentInRandomForestRegressor, \n",
    "         X_train=widgets.fixed(X_train_encode), \n",
    "         y_train=widgets.fixed(y_train), \n",
    "         X_test=widgets.fixed(X_test_encode), \n",
    "         y_test=widgets.fixed(y_test), \n",
    "         max_depth=widgets.IntSlider(min=1, max=10, step=1, value=6), \n",
    "         min_samples_split=widgets.IntSlider(min=2, max=100, step=1, value=15), \n",
    "         min_samples_leaf=widgets.IntSlider(min=1, max=50, step=1, value=5), \n",
    "         plot_train=True, \n",
    "         plot_test=False);\n"
   ]
  },
  {
   "cell_type": "code",
   "execution_count": null,
   "metadata": {},
   "outputs": [],
   "source": []
  }
 ],
 "metadata": {
  "kernelspec": {
   "display_name": "Python 3",
   "language": "python",
   "name": "python3"
  },
  "language_info": {
   "codemirror_mode": {
    "name": "ipython",
    "version": 3
   },
   "file_extension": ".py",
   "mimetype": "text/x-python",
   "name": "python",
   "nbconvert_exporter": "python",
   "pygments_lexer": "ipython3",
   "version": "3.12.1"
  }
 },
 "nbformat": 4,
 "nbformat_minor": 2
}
