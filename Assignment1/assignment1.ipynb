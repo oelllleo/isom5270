{
 "cells": [
  {
   "cell_type": "markdown",
   "metadata": {},
   "source": [
    "# Comapany Background:\n",
    "\n",
    "Select  Collections,  Inc.,  was  a  start-up  subsidiary  of  a  major credit  card  company\n",
    "\n",
    "***The company  purchased  distressed  consumer  debt  at  discounted  rates from  such  major  credit  card***\n",
    "and  then  \n",
    "used  data-driven  decision-making and dynamic value assessment to optimize the collection processes associated with the purchased accounts\n",
    "\n",
    "For each purchased account, ***the first decision was whether to resell or attempt to collect***. For accounts the company decided to attempt to collect, a host of tactics was available for use in any sequence and with any frequency. \n",
    "\n",
    "Like other collection companies, Select Collections used ***the telephone  and  the  legal  system***  as  its  two  major  collection  tools.  \n",
    "\n"
   ]
  },
  {
   "cell_type": "markdown",
   "metadata": {},
   "source": [
    "# Goal:\n",
    "\n",
    "\n",
    "I want to see if we can ***build a model to predict how much money we will collect from  delinquent  accounts.***  Such  a  model  would  prove  very  useful in  ***deciding which accounts to purchase and how much to pay.***\n",
    "\n",
    "There are ***3,570*** accounts in a data set that I will call the training set\n",
    "\n",
    "***We  purchased  these  accounts  and  then  collected  the  amount  shown  in  the  last column, labeled totalpay.*** \n",
    "Totalpay is the variable of interest. I want you to ***come up with a way to forecast totalpay.***\n",
    "\n",
    "I  want  you  to  use  the  model  you  come  up with to predict totalpay for the 3,570 accounts in a separate worksheet of data that I will call the test set. \n",
    "\n",
    "I  want  an  Excel  file  from  you  containing a single column of numbers. \n",
    "***In cell A1, please put the adjusted R-squared for your model.***\n",
    "***In cells A2 through A3571, put your predicted values for the accounts in the test data set in ID order.***\n",
    "\n"
   ]
  },
  {
   "cell_type": "markdown",
   "metadata": {},
   "source": []
  },
  {
   "cell_type": "markdown",
   "metadata": {},
   "source": [
    "# Datadict: \n",
    "![alt text](datadict.png \"data dict\")"
   ]
  },
  {
   "cell_type": "markdown",
   "metadata": {},
   "source": [
    "# Data description:\n",
    "\n",
    "![alt text](description.png \"data description\")"
   ]
  },
  {
   "cell_type": "markdown",
   "metadata": {},
   "source": [
    "# Colume Comparation to total pay\n",
    "\n",
    "![alt text](col_comparasion_totalpay.png \"colume vs totalpay description\")"
   ]
  },
  {
   "cell_type": "markdown",
   "metadata": {},
   "source": [
    "# Col vs Col description\n",
    "![alt text](col_to_col_relationship.png \"col vs col description\")"
   ]
  },
  {
   "cell_type": "markdown",
   "metadata": {},
   "source": [
    "# Business Understanding\n"
   ]
  },
  {
   "cell_type": "markdown",
   "metadata": {},
   "source": [
    "# Understanding the data\n",
    "#### From data dict :\n",
    "what col should be care?\n",
    "\n",
    "#### from data description:\n",
    "data distrbution is fair ? \n",
    "fair in total\n",
    "rollout is also important ?\n",
    "not fair\n",
    "\n",
    "#### from col to total pay part we now only 4 cols are not well distributed\n",
    "\n",
    "inacscr: The natural log of the ***accessscr***\n",
    "\n",
    "***accessscr***: The account’s accessibility score, an a priori estimation of how likely it is that the accountholder is reached via phone.\n",
    "bureauscr: The output of an in-house prediction model based on the likelihood of receiving payments from the accountholder using credit-bureau attributes as predictors \n",
    "\n",
    "numcalls: The number of telephone calls made (to date) to the accountholder\n",
    "\n",
    "numrpcs: The number of “right-party connects” or phone calls in which the collection agent speaks with the accountholder \n",
    "\n",
    "#### how about col to col ?\n",
    "\n",
    "what grid means to me ?\n"
   ]
  },
  {
   "cell_type": "markdown",
   "metadata": {},
   "source": [
    "# Data Preparation\n",
    "\n",
    "From ***Understanding the data parts***, already shown the data related accessibility is important"
   ]
  },
  {
   "cell_type": "code",
   "execution_count": 14,
   "metadata": {},
   "outputs": [],
   "source": [
    "\n",
    "## import pacakge\n",
    "import pandas as pd\n",
    "import numpy as np\n",
    "import matplotlib.pyplot as plt\n",
    "import seaborn as sns\n",
    "from sklearn.model_selection import train_test_split\n",
    "from sklearn.ensemble import RandomForestRegressor\n",
    "from sklearn.preprocessing import OneHotEncoder\n",
    "from sklearn.compose import ColumnTransformer\n",
    "from sklearn.pipeline import Pipeline\n",
    "from sklearn.metrics import mean_squared_error\n",
    "from sklearn.metrics import mean_absolute_percentage_error\n",
    "from sklearn.metrics import root_mean_squared_error\n"
   ]
  },
  {
   "cell_type": "markdown",
   "metadata": {},
   "source": [
    "# Modeling "
   ]
  },
  {
   "cell_type": "markdown",
   "metadata": {},
   "source": [
    "#### Representation\n",
    "\n",
    "What algorithm we are using ? at least it support R-squared\n",
    "\n",
    "Linear Regression: Linear regression is a simple and commonly used algorithm that predicts a continuous target variable based on one or more independent variables.\n",
    "\n",
    "Polynomial Regression: Polynomial regression is a form of regression analysis in which the relationship between the independent variable x and the dependent variable y is modelled as an nth degree polynomial. "
   ]
  },
  {
   "cell_type": "code",
   "execution_count": 2,
   "metadata": {},
   "outputs": [
    {
     "data": {
      "text/html": [
       "<style>#sk-container-id-1 {\n",
       "  /* Definition of color scheme common for light and dark mode */\n",
       "  --sklearn-color-text: black;\n",
       "  --sklearn-color-line: gray;\n",
       "  /* Definition of color scheme for unfitted estimators */\n",
       "  --sklearn-color-unfitted-level-0: #fff5e6;\n",
       "  --sklearn-color-unfitted-level-1: #f6e4d2;\n",
       "  --sklearn-color-unfitted-level-2: #ffe0b3;\n",
       "  --sklearn-color-unfitted-level-3: chocolate;\n",
       "  /* Definition of color scheme for fitted estimators */\n",
       "  --sklearn-color-fitted-level-0: #f0f8ff;\n",
       "  --sklearn-color-fitted-level-1: #d4ebff;\n",
       "  --sklearn-color-fitted-level-2: #b3dbfd;\n",
       "  --sklearn-color-fitted-level-3: cornflowerblue;\n",
       "\n",
       "  /* Specific color for light theme */\n",
       "  --sklearn-color-text-on-default-background: var(--sg-text-color, var(--theme-code-foreground, var(--jp-content-font-color1, black)));\n",
       "  --sklearn-color-background: var(--sg-background-color, var(--theme-background, var(--jp-layout-color0, white)));\n",
       "  --sklearn-color-border-box: var(--sg-text-color, var(--theme-code-foreground, var(--jp-content-font-color1, black)));\n",
       "  --sklearn-color-icon: #696969;\n",
       "\n",
       "  @media (prefers-color-scheme: dark) {\n",
       "    /* Redefinition of color scheme for dark theme */\n",
       "    --sklearn-color-text-on-default-background: var(--sg-text-color, var(--theme-code-foreground, var(--jp-content-font-color1, white)));\n",
       "    --sklearn-color-background: var(--sg-background-color, var(--theme-background, var(--jp-layout-color0, #111)));\n",
       "    --sklearn-color-border-box: var(--sg-text-color, var(--theme-code-foreground, var(--jp-content-font-color1, white)));\n",
       "    --sklearn-color-icon: #878787;\n",
       "  }\n",
       "}\n",
       "\n",
       "#sk-container-id-1 {\n",
       "  color: var(--sklearn-color-text);\n",
       "}\n",
       "\n",
       "#sk-container-id-1 pre {\n",
       "  padding: 0;\n",
       "}\n",
       "\n",
       "#sk-container-id-1 input.sk-hidden--visually {\n",
       "  border: 0;\n",
       "  clip: rect(1px 1px 1px 1px);\n",
       "  clip: rect(1px, 1px, 1px, 1px);\n",
       "  height: 1px;\n",
       "  margin: -1px;\n",
       "  overflow: hidden;\n",
       "  padding: 0;\n",
       "  position: absolute;\n",
       "  width: 1px;\n",
       "}\n",
       "\n",
       "#sk-container-id-1 div.sk-dashed-wrapped {\n",
       "  border: 1px dashed var(--sklearn-color-line);\n",
       "  margin: 0 0.4em 0.5em 0.4em;\n",
       "  box-sizing: border-box;\n",
       "  padding-bottom: 0.4em;\n",
       "  background-color: var(--sklearn-color-background);\n",
       "}\n",
       "\n",
       "#sk-container-id-1 div.sk-container {\n",
       "  /* jupyter's `normalize.less` sets `[hidden] { display: none; }`\n",
       "     but bootstrap.min.css set `[hidden] { display: none !important; }`\n",
       "     so we also need the `!important` here to be able to override the\n",
       "     default hidden behavior on the sphinx rendered scikit-learn.org.\n",
       "     See: https://github.com/scikit-learn/scikit-learn/issues/21755 */\n",
       "  display: inline-block !important;\n",
       "  position: relative;\n",
       "}\n",
       "\n",
       "#sk-container-id-1 div.sk-text-repr-fallback {\n",
       "  display: none;\n",
       "}\n",
       "\n",
       "div.sk-parallel-item,\n",
       "div.sk-serial,\n",
       "div.sk-item {\n",
       "  /* draw centered vertical line to link estimators */\n",
       "  background-image: linear-gradient(var(--sklearn-color-text-on-default-background), var(--sklearn-color-text-on-default-background));\n",
       "  background-size: 2px 100%;\n",
       "  background-repeat: no-repeat;\n",
       "  background-position: center center;\n",
       "}\n",
       "\n",
       "/* Parallel-specific style estimator block */\n",
       "\n",
       "#sk-container-id-1 div.sk-parallel-item::after {\n",
       "  content: \"\";\n",
       "  width: 100%;\n",
       "  border-bottom: 2px solid var(--sklearn-color-text-on-default-background);\n",
       "  flex-grow: 1;\n",
       "}\n",
       "\n",
       "#sk-container-id-1 div.sk-parallel {\n",
       "  display: flex;\n",
       "  align-items: stretch;\n",
       "  justify-content: center;\n",
       "  background-color: var(--sklearn-color-background);\n",
       "  position: relative;\n",
       "}\n",
       "\n",
       "#sk-container-id-1 div.sk-parallel-item {\n",
       "  display: flex;\n",
       "  flex-direction: column;\n",
       "}\n",
       "\n",
       "#sk-container-id-1 div.sk-parallel-item:first-child::after {\n",
       "  align-self: flex-end;\n",
       "  width: 50%;\n",
       "}\n",
       "\n",
       "#sk-container-id-1 div.sk-parallel-item:last-child::after {\n",
       "  align-self: flex-start;\n",
       "  width: 50%;\n",
       "}\n",
       "\n",
       "#sk-container-id-1 div.sk-parallel-item:only-child::after {\n",
       "  width: 0;\n",
       "}\n",
       "\n",
       "/* Serial-specific style estimator block */\n",
       "\n",
       "#sk-container-id-1 div.sk-serial {\n",
       "  display: flex;\n",
       "  flex-direction: column;\n",
       "  align-items: center;\n",
       "  background-color: var(--sklearn-color-background);\n",
       "  padding-right: 1em;\n",
       "  padding-left: 1em;\n",
       "}\n",
       "\n",
       "\n",
       "/* Toggleable style: style used for estimator/Pipeline/ColumnTransformer box that is\n",
       "clickable and can be expanded/collapsed.\n",
       "- Pipeline and ColumnTransformer use this feature and define the default style\n",
       "- Estimators will overwrite some part of the style using the `sk-estimator` class\n",
       "*/\n",
       "\n",
       "/* Pipeline and ColumnTransformer style (default) */\n",
       "\n",
       "#sk-container-id-1 div.sk-toggleable {\n",
       "  /* Default theme specific background. It is overwritten whether we have a\n",
       "  specific estimator or a Pipeline/ColumnTransformer */\n",
       "  background-color: var(--sklearn-color-background);\n",
       "}\n",
       "\n",
       "/* Toggleable label */\n",
       "#sk-container-id-1 label.sk-toggleable__label {\n",
       "  cursor: pointer;\n",
       "  display: block;\n",
       "  width: 100%;\n",
       "  margin-bottom: 0;\n",
       "  padding: 0.5em;\n",
       "  box-sizing: border-box;\n",
       "  text-align: center;\n",
       "}\n",
       "\n",
       "#sk-container-id-1 label.sk-toggleable__label-arrow:before {\n",
       "  /* Arrow on the left of the label */\n",
       "  content: \"▸\";\n",
       "  float: left;\n",
       "  margin-right: 0.25em;\n",
       "  color: var(--sklearn-color-icon);\n",
       "}\n",
       "\n",
       "#sk-container-id-1 label.sk-toggleable__label-arrow:hover:before {\n",
       "  color: var(--sklearn-color-text);\n",
       "}\n",
       "\n",
       "/* Toggleable content - dropdown */\n",
       "\n",
       "#sk-container-id-1 div.sk-toggleable__content {\n",
       "  max-height: 0;\n",
       "  max-width: 0;\n",
       "  overflow: hidden;\n",
       "  text-align: left;\n",
       "  /* unfitted */\n",
       "  background-color: var(--sklearn-color-unfitted-level-0);\n",
       "}\n",
       "\n",
       "#sk-container-id-1 div.sk-toggleable__content.fitted {\n",
       "  /* fitted */\n",
       "  background-color: var(--sklearn-color-fitted-level-0);\n",
       "}\n",
       "\n",
       "#sk-container-id-1 div.sk-toggleable__content pre {\n",
       "  margin: 0.2em;\n",
       "  border-radius: 0.25em;\n",
       "  color: var(--sklearn-color-text);\n",
       "  /* unfitted */\n",
       "  background-color: var(--sklearn-color-unfitted-level-0);\n",
       "}\n",
       "\n",
       "#sk-container-id-1 div.sk-toggleable__content.fitted pre {\n",
       "  /* unfitted */\n",
       "  background-color: var(--sklearn-color-fitted-level-0);\n",
       "}\n",
       "\n",
       "#sk-container-id-1 input.sk-toggleable__control:checked~div.sk-toggleable__content {\n",
       "  /* Expand drop-down */\n",
       "  max-height: 200px;\n",
       "  max-width: 100%;\n",
       "  overflow: auto;\n",
       "}\n",
       "\n",
       "#sk-container-id-1 input.sk-toggleable__control:checked~label.sk-toggleable__label-arrow:before {\n",
       "  content: \"▾\";\n",
       "}\n",
       "\n",
       "/* Pipeline/ColumnTransformer-specific style */\n",
       "\n",
       "#sk-container-id-1 div.sk-label input.sk-toggleable__control:checked~label.sk-toggleable__label {\n",
       "  color: var(--sklearn-color-text);\n",
       "  background-color: var(--sklearn-color-unfitted-level-2);\n",
       "}\n",
       "\n",
       "#sk-container-id-1 div.sk-label.fitted input.sk-toggleable__control:checked~label.sk-toggleable__label {\n",
       "  background-color: var(--sklearn-color-fitted-level-2);\n",
       "}\n",
       "\n",
       "/* Estimator-specific style */\n",
       "\n",
       "/* Colorize estimator box */\n",
       "#sk-container-id-1 div.sk-estimator input.sk-toggleable__control:checked~label.sk-toggleable__label {\n",
       "  /* unfitted */\n",
       "  background-color: var(--sklearn-color-unfitted-level-2);\n",
       "}\n",
       "\n",
       "#sk-container-id-1 div.sk-estimator.fitted input.sk-toggleable__control:checked~label.sk-toggleable__label {\n",
       "  /* fitted */\n",
       "  background-color: var(--sklearn-color-fitted-level-2);\n",
       "}\n",
       "\n",
       "#sk-container-id-1 div.sk-label label.sk-toggleable__label,\n",
       "#sk-container-id-1 div.sk-label label {\n",
       "  /* The background is the default theme color */\n",
       "  color: var(--sklearn-color-text-on-default-background);\n",
       "}\n",
       "\n",
       "/* On hover, darken the color of the background */\n",
       "#sk-container-id-1 div.sk-label:hover label.sk-toggleable__label {\n",
       "  color: var(--sklearn-color-text);\n",
       "  background-color: var(--sklearn-color-unfitted-level-2);\n",
       "}\n",
       "\n",
       "/* Label box, darken color on hover, fitted */\n",
       "#sk-container-id-1 div.sk-label.fitted:hover label.sk-toggleable__label.fitted {\n",
       "  color: var(--sklearn-color-text);\n",
       "  background-color: var(--sklearn-color-fitted-level-2);\n",
       "}\n",
       "\n",
       "/* Estimator label */\n",
       "\n",
       "#sk-container-id-1 div.sk-label label {\n",
       "  font-family: monospace;\n",
       "  font-weight: bold;\n",
       "  display: inline-block;\n",
       "  line-height: 1.2em;\n",
       "}\n",
       "\n",
       "#sk-container-id-1 div.sk-label-container {\n",
       "  text-align: center;\n",
       "}\n",
       "\n",
       "/* Estimator-specific */\n",
       "#sk-container-id-1 div.sk-estimator {\n",
       "  font-family: monospace;\n",
       "  border: 1px dotted var(--sklearn-color-border-box);\n",
       "  border-radius: 0.25em;\n",
       "  box-sizing: border-box;\n",
       "  margin-bottom: 0.5em;\n",
       "  /* unfitted */\n",
       "  background-color: var(--sklearn-color-unfitted-level-0);\n",
       "}\n",
       "\n",
       "#sk-container-id-1 div.sk-estimator.fitted {\n",
       "  /* fitted */\n",
       "  background-color: var(--sklearn-color-fitted-level-0);\n",
       "}\n",
       "\n",
       "/* on hover */\n",
       "#sk-container-id-1 div.sk-estimator:hover {\n",
       "  /* unfitted */\n",
       "  background-color: var(--sklearn-color-unfitted-level-2);\n",
       "}\n",
       "\n",
       "#sk-container-id-1 div.sk-estimator.fitted:hover {\n",
       "  /* fitted */\n",
       "  background-color: var(--sklearn-color-fitted-level-2);\n",
       "}\n",
       "\n",
       "/* Specification for estimator info (e.g. \"i\" and \"?\") */\n",
       "\n",
       "/* Common style for \"i\" and \"?\" */\n",
       "\n",
       ".sk-estimator-doc-link,\n",
       "a:link.sk-estimator-doc-link,\n",
       "a:visited.sk-estimator-doc-link {\n",
       "  float: right;\n",
       "  font-size: smaller;\n",
       "  line-height: 1em;\n",
       "  font-family: monospace;\n",
       "  background-color: var(--sklearn-color-background);\n",
       "  border-radius: 1em;\n",
       "  height: 1em;\n",
       "  width: 1em;\n",
       "  text-decoration: none !important;\n",
       "  margin-left: 1ex;\n",
       "  /* unfitted */\n",
       "  border: var(--sklearn-color-unfitted-level-1) 1pt solid;\n",
       "  color: var(--sklearn-color-unfitted-level-1);\n",
       "}\n",
       "\n",
       ".sk-estimator-doc-link.fitted,\n",
       "a:link.sk-estimator-doc-link.fitted,\n",
       "a:visited.sk-estimator-doc-link.fitted {\n",
       "  /* fitted */\n",
       "  border: var(--sklearn-color-fitted-level-1) 1pt solid;\n",
       "  color: var(--sklearn-color-fitted-level-1);\n",
       "}\n",
       "\n",
       "/* On hover */\n",
       "div.sk-estimator:hover .sk-estimator-doc-link:hover,\n",
       ".sk-estimator-doc-link:hover,\n",
       "div.sk-label-container:hover .sk-estimator-doc-link:hover,\n",
       ".sk-estimator-doc-link:hover {\n",
       "  /* unfitted */\n",
       "  background-color: var(--sklearn-color-unfitted-level-3);\n",
       "  color: var(--sklearn-color-background);\n",
       "  text-decoration: none;\n",
       "}\n",
       "\n",
       "div.sk-estimator.fitted:hover .sk-estimator-doc-link.fitted:hover,\n",
       ".sk-estimator-doc-link.fitted:hover,\n",
       "div.sk-label-container:hover .sk-estimator-doc-link.fitted:hover,\n",
       ".sk-estimator-doc-link.fitted:hover {\n",
       "  /* fitted */\n",
       "  background-color: var(--sklearn-color-fitted-level-3);\n",
       "  color: var(--sklearn-color-background);\n",
       "  text-decoration: none;\n",
       "}\n",
       "\n",
       "/* Span, style for the box shown on hovering the info icon */\n",
       ".sk-estimator-doc-link span {\n",
       "  display: none;\n",
       "  z-index: 9999;\n",
       "  position: relative;\n",
       "  font-weight: normal;\n",
       "  right: .2ex;\n",
       "  padding: .5ex;\n",
       "  margin: .5ex;\n",
       "  width: min-content;\n",
       "  min-width: 20ex;\n",
       "  max-width: 50ex;\n",
       "  color: var(--sklearn-color-text);\n",
       "  box-shadow: 2pt 2pt 4pt #999;\n",
       "  /* unfitted */\n",
       "  background: var(--sklearn-color-unfitted-level-0);\n",
       "  border: .5pt solid var(--sklearn-color-unfitted-level-3);\n",
       "}\n",
       "\n",
       ".sk-estimator-doc-link.fitted span {\n",
       "  /* fitted */\n",
       "  background: var(--sklearn-color-fitted-level-0);\n",
       "  border: var(--sklearn-color-fitted-level-3);\n",
       "}\n",
       "\n",
       ".sk-estimator-doc-link:hover span {\n",
       "  display: block;\n",
       "}\n",
       "\n",
       "/* \"?\"-specific style due to the `<a>` HTML tag */\n",
       "\n",
       "#sk-container-id-1 a.estimator_doc_link {\n",
       "  float: right;\n",
       "  font-size: 1rem;\n",
       "  line-height: 1em;\n",
       "  font-family: monospace;\n",
       "  background-color: var(--sklearn-color-background);\n",
       "  border-radius: 1rem;\n",
       "  height: 1rem;\n",
       "  width: 1rem;\n",
       "  text-decoration: none;\n",
       "  /* unfitted */\n",
       "  color: var(--sklearn-color-unfitted-level-1);\n",
       "  border: var(--sklearn-color-unfitted-level-1) 1pt solid;\n",
       "}\n",
       "\n",
       "#sk-container-id-1 a.estimator_doc_link.fitted {\n",
       "  /* fitted */\n",
       "  border: var(--sklearn-color-fitted-level-1) 1pt solid;\n",
       "  color: var(--sklearn-color-fitted-level-1);\n",
       "}\n",
       "\n",
       "/* On hover */\n",
       "#sk-container-id-1 a.estimator_doc_link:hover {\n",
       "  /* unfitted */\n",
       "  background-color: var(--sklearn-color-unfitted-level-3);\n",
       "  color: var(--sklearn-color-background);\n",
       "  text-decoration: none;\n",
       "}\n",
       "\n",
       "#sk-container-id-1 a.estimator_doc_link.fitted:hover {\n",
       "  /* fitted */\n",
       "  background-color: var(--sklearn-color-fitted-level-3);\n",
       "}\n",
       "</style><div id=\"sk-container-id-1\" class=\"sk-top-container\"><div class=\"sk-text-repr-fallback\"><pre>RandomForestRegressor(max_depth=6, min_samples_leaf=5, min_samples_split=15,\n",
       "                      random_state=1337)</pre><b>In a Jupyter environment, please rerun this cell to show the HTML representation or trust the notebook. <br />On GitHub, the HTML representation is unable to render, please try loading this page with nbviewer.org.</b></div><div class=\"sk-container\" hidden><div class=\"sk-item\"><div class=\"sk-estimator fitted sk-toggleable\"><input class=\"sk-toggleable__control sk-hidden--visually\" id=\"sk-estimator-id-1\" type=\"checkbox\" checked><label for=\"sk-estimator-id-1\" class=\"sk-toggleable__label fitted sk-toggleable__label-arrow fitted\">&nbsp;&nbsp;RandomForestRegressor<a class=\"sk-estimator-doc-link fitted\" rel=\"noreferrer\" target=\"_blank\" href=\"https://scikit-learn.org/1.5/modules/generated/sklearn.ensemble.RandomForestRegressor.html\">?<span>Documentation for RandomForestRegressor</span></a><span class=\"sk-estimator-doc-link fitted\">i<span>Fitted</span></span></label><div class=\"sk-toggleable__content fitted\"><pre>RandomForestRegressor(max_depth=6, min_samples_leaf=5, min_samples_split=15,\n",
       "                      random_state=1337)</pre></div> </div></div></div></div>"
      ],
      "text/plain": [
       "RandomForestRegressor(max_depth=6, min_samples_leaf=5, min_samples_split=15,\n",
       "                      random_state=1337)"
      ]
     },
     "execution_count": 2,
     "metadata": {},
     "output_type": "execute_result"
    }
   ],
   "source": [
    "data = pd.read_csv('Labeled_data.csv')\n",
    "\n",
    "# Define features and target variable\n",
    "X = data[['state', 'zip','rollout','cobal','collscr','cs','accessscr','lnacscr','bureauscr','eaglemod','numcalls','numrpcs']]\n",
    "y = data['totalpay']\n",
    "\n",
    "# Split the data into training and testing sets\n",
    "X_train, X_test, y_train, y_test = train_test_split(X, y, test_size=0.2, random_state=1337)\n",
    "X_train_encode = pd.get_dummies(X_train, columns=['state', 'zip', 'rollout', 'collscr'],drop_first=True)\n",
    "\n",
    "## Train the data \n",
    "model = RandomForestRegressor(max_depth=6, min_samples_split=15, min_samples_leaf=5, random_state=1337)\n",
    "model.fit(X_train_encode, y_train)\n",
    "\n"
   ]
  },
  {
   "cell_type": "code",
   "execution_count": 3,
   "metadata": {},
   "outputs": [],
   "source": [
    "## use the test set \n",
    "X_test_encode = pd.get_dummies(X_test, columns=['state', 'zip', 'rollout', 'collscr'],drop_first=True)\n",
    "X_test_encode = X_test_encode.reindex(columns=X_train_encode.columns, fill_value=0)\n",
    "predictions = model.predict(X_test_encode)\n",
    "X_test.to_excel('test_feature.xlsx', index=False)\n",
    "y_test.to_excel('test_target.xlsx', index=False)\n",
    "pd.DataFrame(predictions, columns=['totalpay']).to_excel('predict_target.xlsx', index=False)\n"
   ]
  },
  {
   "cell_type": "markdown",
   "metadata": {},
   "source": [
    "#### Optimization"
   ]
  },
  {
   "cell_type": "markdown",
   "metadata": {},
   "source": [
    "According to the stats it is weird. but the model is generate from professor. so no need to do Optimization "
   ]
  },
  {
   "cell_type": "markdown",
   "metadata": {},
   "source": [
    "#### Evaluation"
   ]
  },
  {
   "cell_type": "markdown",
   "metadata": {},
   "source": [
    "Same as Optimization parts. but having some question on it."
   ]
  },
  {
   "cell_type": "markdown",
   "metadata": {},
   "source": [
    "***Q1 : What is the mean absolute percentage error (MAPE) of the predictions made by the deployed model? Enter your answer as a rounded integer. For example, if the MAPE is 20.6%, you should enter 21 (not 0.206).***"
   ]
  },
  {
   "cell_type": "code",
   "execution_count": 4,
   "metadata": {},
   "outputs": [
    {
     "name": "stdout",
     "output_type": "stream",
     "text": [
      "Mean Squared Error on test set: 856513.9636756183\n",
      "Mean Absolute Percentage Error on test set: 358.8362737193568 %\n"
     ]
    }
   ],
   "source": [
    "# Calculate mean squared error\n",
    "mse = mean_squared_error(y_test, predictions)\n",
    "print(f\"Mean Squared Error on test set: {mse}\")\n",
    "\n",
    "# Calculate mean squared error\n",
    "msep = mean_absolute_percentage_error(y_test, predictions)\n",
    "print(f\"Mean Absolute Percentage Error on test set: {msep*100} %\")"
   ]
  },
  {
   "cell_type": "markdown",
   "metadata": {},
   "source": [
    "***Q2 : If we had perfect predictions for totalpay, what decision rule (expressed as an inequality) should we use to decide which accounts to purchase? If the inequality is met, we purchase; otherwise, we do not. For example, you might choose totalpay > 800.*** \n",
    "\n",
    "\n",
    "***Answer***: Since the reveunue = total_pay - cobal > 0  == revenue without operation cost \n",
    "and the operation cost is not visable on the case.  \n",
    "So just simply take condition ***total_pay - cobal * 0.25 > 0***"
   ]
  },
  {
   "cell_type": "markdown",
   "metadata": {},
   "source": [
    "***Q3 Apply the decision rule you proposed in the previous question to the test set using the predictions from the deployed model.***\n",
    "\n",
    "***Q3.1 What percentage of cases indicated a purchase, but actually resulted in a loss? (Enter your answer as a rounded integer (e.g., 82 for 81.64%).)***"
   ]
  },
  {
   "cell_type": "code",
   "execution_count": 5,
   "metadata": {},
   "outputs": [],
   "source": [
    "#### ((prediction total_pay) - real total_pay - cobal < 0 \n",
    "# Calculate the difference between the two arrays\n",
    "condition = [pred - cobal*0.25 for pred, cobal in zip(predictions, X_test['cobal'])]\n",
    "# Create a new DataFrame with the differences\n",
    "condition_df = pd.DataFrame({'Action': condition, 'Real_Profit': y_test - X_test['cobal']*0.25 })\n",
    "# Print or display the DataFrame with differences\n",
    "condition_df.to_excel('confusion_matrix.xlsx', index=False)\n"
   ]
  },
  {
   "cell_type": "code",
   "execution_count": 6,
   "metadata": {},
   "outputs": [
    {
     "name": "stdout",
     "output_type": "stream",
     "text": [
      "Loss Percentage Error on test set: 53.05719921104537 %\n"
     ]
    }
   ],
   "source": [
    "# Percentage\n",
    "loss_df_percentage = condition_df[(condition_df['Action'] > 0) & (condition_df['Real_Profit'] < 0)].shape[0] / condition_df[condition_df['Action'] > 0].shape[0]\n",
    "print(f\"Loss Percentage Error on test set: {loss_df_percentage*100} %\")"
   ]
  },
  {
   "cell_type": "markdown",
   "metadata": {},
   "source": [
    "***Q3.2 What percentage of cases indicated not to purchase, but actually resulted in missed opportunities? (Enter your answer as a rounded integer (e.g., 82 for 81.64%).)***"
   ]
  },
  {
   "cell_type": "code",
   "execution_count": 7,
   "metadata": {},
   "outputs": [
    {
     "name": "stdout",
     "output_type": "stream",
     "text": [
      "Missed opportunites Percentage on test set: 27.053140096618357 %\n"
     ]
    }
   ],
   "source": [
    "##  total_pay - (prediction total_pay) > 0 == missed opportunites \n",
    "# Calculate the difference between the two arrays\n",
    "# Create a new DataFrame with the differences\n",
    "missed_opportunites_df_percentage = condition_df[(condition_df['Action'] < 0) & (condition_df['Real_Profit'] > 0)].shape[0] / condition_df[condition_df['Action'] < 0].shape[0]\n",
    "print(f\"Missed opportunites Percentage on test set: {missed_opportunites_df_percentage*100} %\")"
   ]
  },
  {
   "cell_type": "markdown",
   "metadata": {},
   "source": [
    "***Q4. Suppose we want to use this predictive model and decision rule as our data-driven solution to decide which of 3,570 accounts to buy. Based on the test set where you applied this solution, provide a 95% confidence interval for the expected profit. Round your final answer to the nearest 10,000 and express it as integers. For example, if the confidence interval goes from $-32,124.34 to $57,241.32, you would enter -30000 and 60000.***"
   ]
  },
  {
   "cell_type": "markdown",
   "metadata": {},
   "source": [
    "|  | Positive | Negative |\n",
    "| :-----| :----: | :----: |\n",
    "| Buy | totalpay-(cobal * 0.25) | totalpay-( cobal * 0.25 )  |\n",
    "| Not Buy | 0 ** | 0 ** |\n",
    "\n",
    "\\ * Since the totalpay could 0 or some. so should not be = - cobal\n",
    "\n",
    "\\ ** Not buying =  no cost"
   ]
  },
  {
   "cell_type": "code",
   "execution_count": 8,
   "metadata": {},
   "outputs": [
    {
     "data": {
      "text/html": [
       "<div>\n",
       "<style scoped>\n",
       "    .dataframe tbody tr th:only-of-type {\n",
       "        vertical-align: middle;\n",
       "    }\n",
       "\n",
       "    .dataframe tbody tr th {\n",
       "        vertical-align: top;\n",
       "    }\n",
       "\n",
       "    .dataframe thead th {\n",
       "        text-align: right;\n",
       "    }\n",
       "</style>\n",
       "<table border=\"1\" class=\"dataframe\">\n",
       "  <thead>\n",
       "    <tr style=\"text-align: right;\">\n",
       "      <th></th>\n",
       "      <th>Action</th>\n",
       "      <th>Real_Profit</th>\n",
       "    </tr>\n",
       "  </thead>\n",
       "  <tbody>\n",
       "    <tr>\n",
       "      <th>count</th>\n",
       "      <td>714.000000</td>\n",
       "      <td>714.000000</td>\n",
       "    </tr>\n",
       "    <tr>\n",
       "      <th>mean</th>\n",
       "      <td>24.820917</td>\n",
       "      <td>3.740546</td>\n",
       "    </tr>\n",
       "    <tr>\n",
       "      <th>std</th>\n",
       "      <td>338.418093</td>\n",
       "      <td>966.804361</td>\n",
       "    </tr>\n",
       "    <tr>\n",
       "      <th>min</th>\n",
       "      <td>-1607.062373</td>\n",
       "      <td>-2893.250000</td>\n",
       "    </tr>\n",
       "    <tr>\n",
       "      <th>25%</th>\n",
       "      <td>-46.206814</td>\n",
       "      <td>-478.750000</td>\n",
       "    </tr>\n",
       "    <tr>\n",
       "      <th>50%</th>\n",
       "      <td>133.886525</td>\n",
       "      <td>-112.875000</td>\n",
       "    </tr>\n",
       "    <tr>\n",
       "      <th>75%</th>\n",
       "      <td>227.143396</td>\n",
       "      <td>350.750000</td>\n",
       "    </tr>\n",
       "    <tr>\n",
       "      <th>max</th>\n",
       "      <td>1022.054073</td>\n",
       "      <td>5991.000000</td>\n",
       "    </tr>\n",
       "  </tbody>\n",
       "</table>\n",
       "</div>"
      ],
      "text/plain": [
       "            Action  Real_Profit\n",
       "count   714.000000   714.000000\n",
       "mean     24.820917     3.740546\n",
       "std     338.418093   966.804361\n",
       "min   -1607.062373 -2893.250000\n",
       "25%     -46.206814  -478.750000\n",
       "50%     133.886525  -112.875000\n",
       "75%     227.143396   350.750000\n",
       "max    1022.054073  5991.000000"
      ]
     },
     "execution_count": 8,
     "metadata": {},
     "output_type": "execute_result"
    }
   ],
   "source": [
    "condition_df.describe()"
   ]
  },
  {
   "cell_type": "code",
   "execution_count": 9,
   "metadata": {},
   "outputs": [
    {
     "name": "stdout",
     "output_type": "stream",
     "text": [
      "Mean:\n",
      "102.35959383753502\n",
      "SD\n",
      "649.103927998678\n",
      "Testset size\n",
      "714\n",
      "LB and UB\n",
      "289409.2512043313 441438.2487956687\n"
     ]
    }
   ],
   "source": [
    "\n",
    "from scipy import stats\n",
    "\n",
    "profit_df = condition_df\n",
    "profit_df.loc[(condition_df['Action'] < 0),'Real_Profit'] = 0\n",
    "profit_df.to_excel('a.xlsx', index=False)\n",
    "\n",
    "\n",
    "# Calculate mean and standard deviation\n",
    "mean_profit = profit_df['Real_Profit'].mean()\n",
    "std_dev = profit_df['Real_Profit'].std()\n",
    "n = profit_df['Real_Profit'].count()\n",
    "print(\"Mean:\")\n",
    "print(mean_profit)\n",
    "print(\"SD\")\n",
    "print(std_dev)\n",
    "print(\"Testset size\")\n",
    "print(n)\n",
    "\n",
    "# Calculate Standard Error\n",
    "se = std_dev / np.sqrt(3570)\n",
    "\n",
    "# Z-score for 95% confidence interval\n",
    "z_score = stats.norm.ppf(0.975)\n",
    "\n",
    "# Margin of Error\n",
    "me = z_score * se\n",
    "\n",
    "# Confidence Interval\n",
    "lower_bound = mean_profit - me\n",
    "upper_bound = mean_profit + me\n",
    "# Print the results\n",
    "print(\"LB and UB\")\n",
    "print(lower_bound *3570 , upper_bound*3570)\n"
   ]
  },
  {
   "cell_type": "markdown",
   "metadata": {},
   "source": [
    "# Business Perspective Question\n",
    "\n",
    "***Q5 From a business perspective, do you believe this data-driven solution adds value? Please justify your answer.***"
   ]
  },
  {
   "cell_type": "markdown",
   "metadata": {},
   "source": []
  },
  {
   "cell_type": "markdown",
   "metadata": {},
   "source": [
    "***Q6 In what follows, you'll work on improving the current solution for selecting accounts to purchase. Choose an appropriate performance measure (e.g., accuracy, precision, recall) to assess your progress. Briefly justify your choice.***"
   ]
  },
  {
   "cell_type": "markdown",
   "metadata": {},
   "source": [
    "***Q7 Improve the current solution based on the performance measure you selected. Provide a brief summary of the various approaches you attempted. Describe your best-performing solution and how it compares to the original in terms of performance.*** "
   ]
  },
  {
   "cell_type": "markdown",
   "metadata": {},
   "source": [
    "***Q8 Apply your best-performing solution to determine which accounts to purchase from the unlabeled data. Submit your results in a CSV file named decisions.csv. This file must have two columns: the first column, acctid, should contain the account IDs, and the second column, decision, should include 1 for accounts you choose to purchase and 0 for those you do not. Refer to decisions_EXAMPLE.csv Download decisions_EXAMPLE.csv for the correct format.***\n",
    "\n",
    "***Ensure your file is correctly formatted. Common errors to avoid include missing columns, additional unnecessary columns, incorrect column headers (e.g., \"Decision\" instead of \"decision\"), submitting an Excel file instead of a CSV, submitting a file with a different number of accounts than required, and submitting decisions on the test set instead of the unlabeled data.***\n",
    "\n",
    "***Grading Criteria:***\n",
    "\n",
    "1 point: Correct file format.\n",
    "2 points: Correct format and better performance than the original solution.\n",
    "3 points: Correct format and performance exceeding at least 80% of the class.***"
   ]
  },
  {
   "cell_type": "code",
   "execution_count": 27,
   "metadata": {
    "scrolled": true
   },
   "outputs": [
    {
     "data": {
      "application/vnd.jupyter.widget-view+json": {
       "model_id": "dcc9a5fa92604d3c8c11e2b86cca7a56",
       "version_major": 2,
       "version_minor": 0
      },
      "text/plain": [
       "interactive(children=(IntSlider(value=6, description='max_depth', max=3570, min=1), IntSlider(value=15, descri…"
      ]
     },
     "metadata": {},
     "output_type": "display_data"
    }
   ],
   "source": [
    "## Direction 1: optimizing the Random forest \n",
    "#### find does there has any better hyperparameter first\n",
    "from ipywidgets import interact # type: ignore\n",
    "import ipywidgets as widgets # type: ignore\n",
    "# Define features and target variable\n",
    "X = data[['cobal','accessscr','lnacscr','bureauscr','numcalls','numrpcs']]\n",
    "y = data['totalpay']\n",
    "\n",
    "# Split the data into training and testing sets\n",
    "X_train, X_test, y_train, y_test = train_test_split(X, y, test_size=0.2, random_state=1337)\n",
    "X_train_encode = pd.get_dummies(X_train, columns=['state', 'zip', 'rollout', 'collscr'],drop_first=True)\n",
    "\n",
    "# Define the parameter grid to search\n",
    "## RandomForestRegressor(max_depth=6, min_samples_split=15, min_samples_leaf=5, random_state=1337)\n",
    "def bestHyperParamentInRandomForestRegressor(X_train, y_train, X_test, y_test,max_depth, min_samples_split, min_samples_leaf, random_state) :\n",
    "\n",
    "    tree_model = RandomForestRegressor(max_depth=max_depth, min_samples_split=min_samples_split, min_samples_leaf=min_samples_leaf, random_state=random_state)\n",
    "    tree_model = tree_model.fit(X_train, y_train)\n",
    "    tree_pred = tree_model.predict(X_test)\n",
    "    mse = mean_squared_error(y_test, tree_pred)\n",
    "    msep = mean_absolute_percentage_error(y_test, predictions)\n",
    "    rmse = root_mean_squared_error(y_test, tree_pred)\n",
    "    print(f\"MSE of Model (test): {mse:.2f}\")\n",
    "    print(f\"MSEP of Model (test): {msep:.2f}\")\n",
    "    print(f\"RMSE of Model (test): {rmse:.2f}\")\n",
    "    \n",
    "\n",
    "interact(bestHyperParamentInRandomForestRegressor, \n",
    "         X_train=widgets.fixed(X_train_encode), \n",
    "         y_train=widgets.fixed(y_train), \n",
    "         X_test=widgets.fixed(X_test_encode), \n",
    "         y_test=widgets.fixed(y_test), \n",
    "         max_depth=widgets.IntSlider(min=1, max=3570, step=1, value=6), \n",
    "         min_samples_split=widgets.IntSlider(min=2, max=3570, step=1, value=15), \n",
    "         min_samples_leaf=widgets.IntSlider(min=1, max=3750, step=1, value=5), \n",
    "         random_state=widgets.IntSlider(min=1, max=3750, step=1, value=5));\n"
   ]
  },
  {
   "cell_type": "code",
   "execution_count": 29,
   "metadata": {},
   "outputs": [
    {
     "data": {
      "application/vnd.jupyter.widget-view+json": {
       "model_id": "bdc40aaceaeb4faebf8caa8fc976086b",
       "version_major": 2,
       "version_minor": 0
      },
      "text/plain": [
       "interactive(children=(IntSlider(value=6, description='min_samples', max=3750, min=1), IntSlider(value=5, descr…"
      ]
     },
     "metadata": {},
     "output_type": "display_data"
    }
   ],
   "source": [
    "## Direction 2: Using another model\n",
    "from sklearn.tree import DecisionTreeRegressor\n",
    "def bestHyperParamentInRandomForestRegressor(X_train, y_train, X_test, y_test,min_samples, random_state) :\n",
    "\n",
    "    tree_model = DecisionTreeRegressor(min_samples_leaf=min_samples, random_state=42)\n",
    "    tree_model = tree_model.fit(X_train, y_train)\n",
    "    tree_pred = tree_model.predict(X_test)\n",
    "    mse = mean_squared_error(y_test, tree_pred)\n",
    "    msep = mean_absolute_percentage_error(y_test, predictions)\n",
    "    rmse = root_mean_squared_error(y_test, tree_pred)\n",
    "    print(f\"MSE of Model (test): {mse:.2f}\")\n",
    "    print(f\"MSEP of Model (test): {msep:.2f}\")\n",
    "    print(f\"RMSE of Model (test): {rmse:.2f}\")\n",
    "    \n",
    "\n",
    "interact(bestHyperParamentInRandomForestRegressor, \n",
    "         X_train=widgets.fixed(X_train_encode), \n",
    "         y_train=widgets.fixed(y_train), \n",
    "         X_test=widgets.fixed(X_test_encode), \n",
    "         y_test=widgets.fixed(y_test), \n",
    "         min_samples=widgets.IntSlider(min=1, max=3750, step=1, value=6), \n",
    "         random_state=widgets.IntSlider(min=1, max=3750, step=1, value=5));"
   ]
  },
  {
   "cell_type": "code",
   "execution_count": 31,
   "metadata": {},
   "outputs": [
    {
     "data": {
      "application/vnd.jupyter.widget-view+json": {
       "model_id": "a534b034bcc0435a9e5fef0d7c58dca3",
       "version_major": 2,
       "version_minor": 0
      },
      "text/plain": [
       "interactive(children=(Output(),), _dom_classes=('widget-interact',))"
      ]
     },
     "metadata": {},
     "output_type": "display_data"
    }
   ],
   "source": [
    "from sklearn.linear_model import LinearRegression\n",
    "def bestHyperParamentInLinearRegression(X_train, y_train, X_test, y_test) :\n",
    "\n",
    "    tree_model = LinearRegression()\n",
    "    tree_model = tree_model.fit(X_train, y_train)\n",
    "    tree_pred = tree_model.predict(X_test)\n",
    "    mse = mean_squared_error(y_test, tree_pred)\n",
    "    msep = mean_absolute_percentage_error(y_test, predictions)\n",
    "    rmse = root_mean_squared_error(y_test, tree_pred)\n",
    "    print(f\"MSE of Model (test): {mse:.2f}\")\n",
    "    print(f\"MSEP of Model (test): {msep:.2f}\")\n",
    "    print(f\"RMSE of Model (test): {rmse:.2f}\")\n",
    "    \n",
    "\n",
    "interact(bestHyperParamentInLinearRegression, \n",
    "         X_train=widgets.fixed(X_train_encode), \n",
    "         y_train=widgets.fixed(y_train), \n",
    "         X_test=widgets.fixed(X_test_encode), \n",
    "         y_test=widgets.fixed(y_test), \n",
    "         min_samples=widgets.IntSlider(min=1, max=3750, step=1, value=6), \n",
    "         random_state=widgets.IntSlider(min=1, max=3750, step=1, value=5));"
   ]
  },
  {
   "cell_type": "code",
   "execution_count": null,
   "metadata": {},
   "outputs": [],
   "source": []
  },
  {
   "cell_type": "code",
   "execution_count": null,
   "metadata": {},
   "outputs": [],
   "source": []
  }
 ],
 "metadata": {
  "kernelspec": {
   "display_name": "Python 3 (ipykernel)",
   "language": "python",
   "name": "python3"
  },
  "language_info": {
   "codemirror_mode": {
    "name": "ipython",
    "version": 3
   },
   "file_extension": ".py",
   "mimetype": "text/x-python",
   "name": "python",
   "nbconvert_exporter": "python",
   "pygments_lexer": "ipython3",
   "version": "3.12.1"
  }
 },
 "nbformat": 4,
 "nbformat_minor": 4
}
