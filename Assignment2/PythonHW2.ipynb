{
 "cells": [
  {
   "cell_type": "markdown",
   "id": "71b5922e",
   "metadata": {},
   "source": [
    "# Introduction \n",
    "You just accepted a job at CausalMarketing, a firm that offers marketing consulting services. \n",
    "For your first assignment, you've been tasked with helping a large online clothing store, Nosara, with their targeted advertising campaign.\n",
    "\n",
    "\n",
    "Nosara is promoting a new handbag model priced at ***$100***, which is not yet available for sale. \n",
    "\n",
    "They randomly selected 3 million past customers and sent them emails offering the opportunity to pre-order the handbag. \n",
    "\n",
    "These customers were divided into two groups: \n",
    "***one received only the pre-order invitation (control group)***, and \n",
    "***the other received a 20% discount if they pre-ordered (treatment group)***. \n",
    "Each email allows the purchase of ***a single handbag***.\n",
    "\n",
    "Nosara has ***10,979,592*** past customers who haven't been emailed yet. \n",
    "They want you to help them design a data-driven solution to \n",
    "decide which of these customers should ***receive a discount email*** and which should ***receive a regular email*** to ***maximize*** sales after discounts.\n",
    "\n",
    "Nosara has shared two datasets:\n",
    "\n",
    "one of customers who have already been emailed (nosara_labeled) and another of customers not yet emailed (nosara_unlabeled). The fields are:\n",
    "\n",
    "Features (all numeric): f0, f1, f2, f3, f4, f5, f6, f7, f8, f9, f10, f11\n",
    "\n",
    "treatment: Indicates group (1 = treated, 0 = control). \n",
    "\n",
    "preorder: Indicates if the customer pre-ordered (1=Yes, 0=No).\n",
    "\n",
    "Note: Feature names were anonymized, and their values randomly projected to keep their predictive power without risking the privacy of Nosara’s customer base."
   ]
  },
  {
   "cell_type": "markdown",
   "id": "7fd0fab6",
   "metadata": {},
   "source": [
    "## Analysis\n",
    "\n",
    "#### Business understanding \n",
    "\n",
    "Need to help the company to decide who need to receive the promotion emails to maximum the profits \n",
    "so the Benefit > cost \n",
    "\n",
    "#### Cost and Benefit martix \n",
    "\n",
    "|    | pre-order (1) | do not pre-order (0) |\n",
    "| -------- | ------- | ------ |\n",
    "| regular email   | BC = 100| 0 |\n",
    "| 20% discount email| BC - DC = 80 | 0 |\n",
    "\n",
    "Bag Cost(BC) : 100\n",
    "\n",
    "Discount Cost(DC) : 20\n",
    "\n",
    "#### Decision need to make \n",
    "10,979,592\n",
    "\n",
    "#### what possbility we have \n",
    "\n",
    "|    | pre-order (1) | do not pre-order (0) |\n",
    "| -------- | ------- | ------ |\n",
    "| regular email (RE)  | P(1\\|RE) | P(0\\|RE) |\n",
    "| 20% discount email (DE) | P(1\\|DE) | P(0\\|DE) |\n",
    "\n",
    "P(1|RE) = from model\n",
    "\n",
    "P(0|RE) = from model\n",
    "\n",
    "P(1|DE) = ***do not ?***\n",
    "\n",
    "P(0|DE) = ***do not ?***"
   ]
  },
  {
   "cell_type": "markdown",
   "id": "5894718e",
   "metadata": {},
   "source": [
    "#### Understand the business \n",
    "\n",
    "Nothing . just know it selling the bag witgh pre-order and want to get the maximum value"
   ]
  },
  {
   "cell_type": "markdown",
   "id": "a6f42620",
   "metadata": {},
   "source": [
    "#### Understand the data \n",
    "\n",
    "2 datasets and group \n",
    "\n",
    "##### Group:\n",
    "\n",
    "***one received only the pre-order invitation (control group)***  \n",
    "\n",
    "***the other received a 20% discount if they pre-ordered (treatment group)***. \n",
    "\n",
    "##### Data: \n",
    "\n",
    "***receive a discount email***  (nosara_labeled)\n",
    "\n",
    "***receive a regular email***   (nosara_unlabeled)"
   ]
  },
  {
   "cell_type": "markdown",
   "id": "7adeca9b",
   "metadata": {},
   "source": [
    "#### Modeling\n",
    "Nth to do modeling is provided \n",
    "\n"
   ]
  },
  {
   "cell_type": "code",
   "execution_count": null,
   "id": "a70d6d53-c1ba-41ce-b14f-3ebb32ea8f00",
   "metadata": {},
   "outputs": [
    {
     "name": "stdout",
     "output_type": "stream",
     "text": [
      "Done!\n"
     ]
    }
   ],
   "source": [
    "import pandas as pd\n",
    "from sklearn.model_selection import train_test_split\n",
    "from sklearn import preprocessing\n",
    "from sklearn.linear_model import LogisticRegression\n",
    "\n",
    "# Load Data\n",
    "df_labeled = pd.read_csv(\"nosara_labeled.csv\")\n",
    "df_unlabeled = pd.read_csv(\"nosara_unlabeled.csv\")\n",
    "\n",
    "# Pre-process data\n",
    "feature_names = ['f0','f1','f2','f3','f4','f5','f6','f7','f8','f9','f10','f11']\n",
    "X = df_labeled[feature_names]\n",
    "y = df_labeled.preorder\n",
    "t = df_labeled.treatment\n",
    "scaler = preprocessing.StandardScaler().fit(X)\n",
    "X = scaler.transform(X)\n",
    "X_unlabeled = scaler.transform(df_unlabeled[feature_names])\n",
    "\n",
    "# Split data\n",
    "X_tr, X_te, y_tr, y_te, t_tr, t_te = train_test_split(X, y, t, test_size=0.2, random_state=1337)\n",
    "\n",
    "# Data is large, so be patient with the training. \n",
    "# Model for treated\n",
    "model_treat = LogisticRegression().fit(X_tr[t_tr==1],y_tr[t_tr==1])\n",
    "# Model for control\n",
    "model_control = LogisticRegression().fit(X_tr[t_tr==0],y_tr[t_tr==0])\n",
    "print(\"Done!\")"
   ]
  },
  {
   "cell_type": "code",
   "execution_count": null,
   "id": "7b671191",
   "metadata": {},
   "outputs": [],
   "source": []
  }
 ],
 "metadata": {
  "kernelspec": {
   "display_name": "Python 3 (ipykernel)",
   "language": "python",
   "name": "python3"
  },
  "language_info": {
   "codemirror_mode": {
    "name": "ipython",
    "version": 3
   },
   "file_extension": ".py",
   "mimetype": "text/x-python",
   "name": "python",
   "nbconvert_exporter": "python",
   "pygments_lexer": "ipython3",
   "version": "3.8.19"
  }
 },
 "nbformat": 4,
 "nbformat_minor": 5
}
