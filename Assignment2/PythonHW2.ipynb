{
 "cells": [
  {
   "cell_type": "markdown",
   "id": "71b5922e",
   "metadata": {},
   "source": [
    "# Introduction \n",
    "You just accepted a job at CausalMarketing, a firm that offers marketing consulting services. \n",
    "For your first assignment, you've been tasked with helping a large online clothing store, Nosara, with their targeted advertising campaign.\n",
    "\n",
    "\n",
    "Nosara is promoting a new handbag model priced at ***$100***, which is not yet available for sale. \n",
    "\n",
    "They randomly selected 3 million past customers and sent them emails offering the opportunity to pre-order the handbag. \n",
    "\n",
    "These customers were divided into two groups: \n",
    "***one received only the pre-order invitation (control group)***, and \n",
    "***the other received a 20% discount if they pre-ordered (treatment group)***. \n",
    "Each email allows the purchase of ***a single handbag***.\n",
    "\n",
    "Nosara has ***10,979,592*** past customers who haven't been emailed yet. \n",
    "They want you to help them design a data-driven solution to \n",
    "decide which of these customers should ***receive a discount email*** and which should ***receive a regular email*** to ***maximize*** sales after discounts.\n",
    "\n",
    "Nosara has shared two datasets:\n",
    "\n",
    "one of customers who have already been emailed (nosara_labeled) and another of customers not yet emailed (nosara_unlabeled). The fields are:\n",
    "\n",
    "Features (all numeric): f0, f1, f2, f3, f4, f5, f6, f7, f8, f9, f10, f11\n",
    "\n",
    "treatment: Indicates group (1 = treated, 0 = control). \n",
    "\n",
    "preorder: Indicates if the customer pre-ordered (1=Yes, 0=No).\n",
    "\n",
    "Note: Feature names were anonymized, and their values randomly projected to keep their predictive power without risking the privacy of Nosara’s customer base."
   ]
  },
  {
   "cell_type": "markdown",
   "id": "7fd0fab6",
   "metadata": {},
   "source": [
    "## Analysis\n",
    "\n",
    "#### Business understanding \n",
    "\n",
    "Need to help the company to decide who need to receive the promotion emails to maximum the profits \n",
    "so the Benefit > cost \n",
    "\n",
    "#### Cost and Benefit martix \n",
    "\n",
    "|    | pre-order (1) | do not pre-order (0) |\n",
    "| -------- | ------- | ------ |\n",
    "| regular email   | BC = 100| 0 |\n",
    "| 20% discount email| BC - DC = 80 | 0 |\n",
    "\n",
    "Bag Cost(BC) : 100\n",
    "\n",
    "Discount Cost(DC) : 20\n",
    "\n",
    "#### Decision need to make \n",
    "10,979,592\n",
    "\n",
    "#### what possbility we have \n",
    "\n",
    "|    | pre-order (1) | do not pre-order (0) |\n",
    "| -------- | ------- | ------ |\n",
    "| regular email (control)  | P(1\\|RE) | P(0\\|RE) |\n",
    "| 20% discount email (treatment) | P(1\\|DE) | P(0\\|DE) |\n",
    "\n",
    "P(1|RE) = from control group\n",
    "\n",
    "P(0|RE) = from control group\n",
    "\n",
    "P(1|DE) = from treatment group\n",
    "\n",
    "P(0|DE) = from treatment group"
   ]
  },
  {
   "cell_type": "markdown",
   "id": "5894718e",
   "metadata": {},
   "source": [
    "#### Understand the business \n",
    "\n",
    "Nothing . just know it selling the bag witgh pre-order and want to get the maximum value"
   ]
  },
  {
   "cell_type": "markdown",
   "id": "a6f42620",
   "metadata": {},
   "source": [
    "#### Understand the data \n",
    "\n",
    "2 datasets and group \n",
    "\n",
    "##### Group:\n",
    "\n",
    "***one received only the pre-order invitation (control group)***  \n",
    "\n",
    "***the other received a 20% discount if they pre-ordered (treatment group)***. \n",
    "\n",
    "##### Data: \n",
    "\n",
    "***receive a discount email***  (nosara_labeled)\n",
    "\n",
    "***receive a regular email***   (nosara_unlabeled)"
   ]
  },
  {
   "cell_type": "markdown",
   "id": "7adeca9b",
   "metadata": {},
   "source": [
    "#### Modeling\n",
    "Nth to do modeling is provided \n",
    "\n"
   ]
  },
  {
   "cell_type": "code",
   "execution_count": null,
   "id": "a70d6d53-c1ba-41ce-b14f-3ebb32ea8f00",
   "metadata": {},
   "outputs": [
    {
     "name": "stdout",
     "output_type": "stream",
     "text": [
      "Done!\n"
     ]
    }
   ],
   "source": [
    "import pandas as pd\n",
    "from sklearn.model_selection import train_test_split\n",
    "from sklearn import preprocessing\n",
    "from sklearn.linear_model import LogisticRegression\n",
    "\n",
    "# Load Data\n",
    "df_labeled = pd.read_csv(\"nosara_labeled.csv\")\n",
    "df_unlabeled = pd.read_csv(\"nosara_unlabeled.csv\")\n",
    "\n",
    "# Pre-process data\n",
    "feature_names = ['f0','f1','f2','f3','f4','f5','f6','f7','f8','f9','f10','f11']\n",
    "X = df_labeled[feature_names]\n",
    "y = df_labeled.preorder\n",
    "t = df_labeled.treatment\n",
    "scaler = preprocessing.StandardScaler().fit(X)\n",
    "X = scaler.transform(X)\n",
    "X_unlabeled = scaler.transform(df_unlabeled[feature_names])\n",
    "\n",
    "# Split data\n",
    "X_tr, X_te, y_tr, y_te, t_tr, t_te = train_test_split(X, y, t, test_size=0.2, random_state=1337)\n",
    "\n",
    "# Data is large, so be patient with the training. \n",
    "# Model for treated\n",
    "model_treat = LogisticRegression().fit(X_tr[t_tr==1],y_tr[t_tr==1])\n",
    "# Model for control\n",
    "model_control = LogisticRegression().fit(X_tr[t_tr==0],y_tr[t_tr==0])\n",
    "print(\"Done!\")"
   ]
  },
  {
   "cell_type": "markdown",
   "id": "12775ed5",
   "metadata": {},
   "source": [
    "## calculate the prob. on \n",
    "\n",
    "|    | pre-order (1) | do not pre-order (0) |\n",
    "| -------- | ------- | ------ |\n",
    "| regular email (control)  | P(1\\|RE) | P(0\\|RE) |"
   ]
  },
  {
   "cell_type": "markdown",
   "id": "089ad571",
   "metadata": {},
   "source": []
  },
  {
   "cell_type": "code",
   "execution_count": 63,
   "id": "7b671191",
   "metadata": {},
   "outputs": [],
   "source": [
    "# output the prediction in treatment\n",
    "treat_predict=model_treat.predict(X_te[t_te==1])\n"
   ]
  },
  {
   "cell_type": "markdown",
   "id": "b5788357",
   "metadata": {},
   "source": [
    "## calculate the prob. on \n",
    "\n",
    "|    | pre-order (1) | do not pre-order (0) |\n",
    "| -------- | ------- | ------ |\n",
    "| 20% discount email (treatment) | P(1\\|DE) | P(0\\|DE) |"
   ]
  },
  {
   "cell_type": "code",
   "execution_count": 76,
   "id": "407961fd",
   "metadata": {},
   "outputs": [
    {
     "name": "stdout",
     "output_type": "stream",
     "text": [
      "test case size on E(1|RE) = 509834\n",
      "confusion matrix is :\n",
      "[[TN, FP],\n",
      "[FN, TP]]\n",
      "[[480075  16702]\n",
      " [  5273   7784]]\n",
      "so the P(1|DE) = (E(1|FP,DE) + E(1|TP,DE))/E(1|DE)\n",
      "P(1|DE)=0.04802739715279875\n",
      "so the P(0|RE) = (E(TN|0|RE) + E(FN|0|RE))/E(1|RE)\n",
      "P(0|DE)=0.9519726028472012\n"
     ]
    }
   ],
   "source": [
    "from sklearn.metrics import confusion_matrix\n",
    "cm_treat = confusion_matrix(treat_predict, y_te[t_te==1])\n",
    "print(\"test case size on E(1|RE) = {}\".format(treat_predict.shape[0]))\n",
    "print(\"confusion matrix is :\")\n",
    "print(\"[[TN, FP],\")\n",
    "print(\"[FN, TP]]\")\n",
    "print(cm_treat)\n",
    "print(\"so the P(1|DE) = (E(1|FP,DE) + E(1|TP,DE))/E(1|DE)\")\n",
    "P_1_DE = (cm_treat[0,1]+cm_treat[1,1])/treat_predict.shape[0]\n",
    "print(f\"P(1|DE)={P_1_DE}\")\n",
    "print(\"so the P(0|RE) = (E(TN|0|RE) + E(FN|0|RE))/E(1|RE)\")\n",
    "P_0_DE = (cm_treat[0,0]+cm_treat[1,0])/treat_predict.shape[0]\n",
    "print(f\"P(0|DE)={P_0_DE}\")\n"
   ]
  },
  {
   "cell_type": "code",
   "execution_count": 78,
   "id": "ba1c0f75",
   "metadata": {},
   "outputs": [
    {
     "name": "stdout",
     "output_type": "stream",
     "text": [
      "Effect=3.8421917722239\n",
      "E(1) = E(1|RE)+E(1|DE)\n",
      "# of events sending discount email=24486\n",
      "# of events sending email=600000\n",
      "P(send discount email)=0.04081\n",
      "Effect Decision_Rule=1721598.3372072822\n"
     ]
    }
   ],
   "source": [
    "# Effect \n",
    "effect = P_1_DE * 80 - P_0_DE * 0\n",
    "print(f\"Effect={effect}\")\n",
    "# prob pn P(1)\n",
    "print(f\"E(1) = E(1|RE)+E(1|DE)\")\n",
    "E_1_DE = cm_treat[0,1]+cm_treat[1,1]\n",
    "E_1 = E_1_DE \n",
    "print(f\"# of events sending discount email={E_1}\")\n",
    "print(f\"# of events sending email={X_te.shape[0]}\")\n",
    "P_1 = E_1/X_te.shape[0]\n",
    "print(f\"P(send discount email)={P_1}\")\n",
    "# Effect of Decision Rule \n",
    "effect_decision_rule = 10979592*P_1*effect\n",
    "print(f\"Effect Decision_Rule={effect_decision_rule}\")"
   ]
  }
 ],
 "metadata": {
  "kernelspec": {
   "display_name": "base",
   "language": "python",
   "name": "python3"
  },
  "language_info": {
   "codemirror_mode": {
    "name": "ipython",
    "version": 3
   },
   "file_extension": ".py",
   "mimetype": "text/x-python",
   "name": "python",
   "nbconvert_exporter": "python",
   "pygments_lexer": "ipython3",
   "version": "3.9.12"
  }
 },
 "nbformat": 4,
 "nbformat_minor": 5
}
