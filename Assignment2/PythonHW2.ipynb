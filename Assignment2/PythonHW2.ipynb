{
 "cells": [
  {
   "cell_type": "markdown",
   "id": "71b5922e",
   "metadata": {},
   "source": [
    "# Introduction \n",
    "You just accepted a job at CausalMarketing, a firm that offers marketing consulting services. \n",
    "For your first assignment, you've been tasked with helping a large online clothing store, Nosara, with their targeted advertising campaign.\n",
    "\n",
    "\n",
    "Nosara is promoting a new handbag model priced at ***$100***, which is not yet available for sale. \n",
    "\n",
    "They randomly selected 3 million past customers and sent them emails offering the opportunity to pre-order the handbag. \n",
    "\n",
    "These customers were divided into two groups: \n",
    "***one received only the pre-order invitation (control group)***, and \n",
    "***the other received a 20% discount if they pre-ordered (treatment group)***. \n",
    "Each email allows the purchase of ***a single handbag***.\n",
    "\n",
    "Nosara has ***10,979,592*** past customers who haven't been emailed yet. \n",
    "They want you to help them design a data-driven solution to \n",
    "decide which of these customers should ***receive a discount email*** and which should ***receive a regular email*** to ***maximize*** sales after discounts.\n",
    "\n",
    "Nosara has shared two datasets:\n",
    "\n",
    "one of customers who have already been emailed (nosara_labeled) and another of customers not yet emailed (nosara_unlabeled). The fields are:\n",
    "\n",
    "Features (all numeric): f0, f1, f2, f3, f4, f5, f6, f7, f8, f9, f10, f11\n",
    "\n",
    "treatment: Indicates group (1 = treated, 0 = control). \n",
    "\n",
    "preorder: Indicates if the customer pre-ordered (1=Yes, 0=No).\n",
    "\n",
    "Note: Feature names were anonymized, and their values randomly projected to keep their predictive power without risking the privacy of Nosara’s customer base."
   ]
  },
  {
   "cell_type": "markdown",
   "id": "7fd0fab6",
   "metadata": {},
   "source": [
    "## Analysis\n",
    "\n",
    "#### Business understanding \n",
    "\n",
    "Need to help the company to decide who need to receive the promotion emails to maximum the profits \n",
    "so the Benefit > cost \n",
    "\n",
    "#### Cost and Benefit martix \n",
    "\n",
    "|    | pre-order (1) | do not pre-order (0) |\n",
    "| -------- | ------- | ------ |\n",
    "| regular email   | BC = 100| 0 |\n",
    "| 20% discount email| BC - DC = 80 | 0 |\n",
    "\n",
    "Bag Cost(BC) : 100\n",
    "\n",
    "Discount Cost(DC) : 20\n",
    "\n",
    "#### Decision need to make \n",
    "10,979,592\n",
    "\n",
    "#### what possbility we have \n",
    "\n",
    "|    | pre-order (1) | do not pre-order (0) |\n",
    "| -------- | ------- | ------ |\n",
    "| regular email (control)  | P(1\\|RE) | P(0\\|RE) |\n",
    "| 20% discount email (treatment) | P(1\\|DE) | P(0\\|DE) |\n",
    "\n",
    "P(1|RE) = from control group\n",
    "\n",
    "P(0|RE) = from control group\n",
    "\n",
    "P(1|DE) = from treatment group\n",
    "\n",
    "P(0|DE) = from treatment group"
   ]
  },
  {
   "cell_type": "markdown",
   "id": "5894718e",
   "metadata": {},
   "source": [
    "#### Understand the business \n",
    "\n",
    "Nothing . just know it selling the bag witgh pre-order and want to get the maximum value"
   ]
  },
  {
   "cell_type": "markdown",
   "id": "a6f42620",
   "metadata": {},
   "source": [
    "#### Understand the data \n",
    "\n",
    "2 datasets and group \n",
    "\n",
    "##### Group:\n",
    "\n",
    "***one received only the pre-order invitation (control group)***  \n",
    "\n",
    "***the other received a 20% discount if they pre-ordered (treatment group)***. \n",
    "\n",
    "##### Data: \n",
    "\n",
    "***receive a discount email***  (nosara_labeled)\n",
    "\n",
    "***receive a regular email***   (nosara_unlabeled)"
   ]
  },
  {
   "cell_type": "markdown",
   "id": "7adeca9b",
   "metadata": {},
   "source": [
    "#### Modeling\n",
    "Nth to do modeling is provided \n",
    "\n"
   ]
  },
  {
   "cell_type": "code",
   "execution_count": 1,
   "id": "a70d6d53-c1ba-41ce-b14f-3ebb32ea8f00",
   "metadata": {},
   "outputs": [
    {
     "name": "stdout",
     "output_type": "stream",
     "text": [
      "Done!\n"
     ]
    }
   ],
   "source": [
    "import pandas as pd\n",
    "from sklearn.model_selection import train_test_split\n",
    "from sklearn import preprocessing\n",
    "from sklearn.linear_model import LogisticRegression\n",
    "\n",
    "# Load Data\n",
    "df_labeled = pd.read_csv(\"nosara_labeled.csv\")\n",
    "df_unlabeled = pd.read_csv(\"nosara_unlabeled.csv\")\n",
    "\n",
    "# Pre-process data\n",
    "feature_names = ['f0','f1','f2','f3','f4','f5','f6','f7','f8','f9','f10','f11']\n",
    "X = df_labeled[feature_names]\n",
    "y = df_labeled.preorder\n",
    "t = df_labeled.treatment\n",
    "scaler = preprocessing.StandardScaler().fit(X)\n",
    "X = scaler.transform(X)\n",
    "X_unlabeled = scaler.transform(df_unlabeled[feature_names])\n",
    "\n",
    "# Split data\n",
    "X_tr, X_te, y_tr, y_te, t_tr, t_te = train_test_split(X, y, t, test_size=0.2, random_state=1337)\n",
    "\n",
    "# Data is large, so be patient with the training. \n",
    "# Model for treated\n",
    "model_treat = LogisticRegression().fit(X_tr[t_tr==1],y_tr[t_tr==1])\n",
    "# Model for control\n",
    "model_control = LogisticRegression().fit(X_tr[t_tr==0],y_tr[t_tr==0])\n",
    "print(\"Done!\")"
   ]
  },
  {
   "cell_type": "markdown",
   "id": "089ad571",
   "metadata": {},
   "source": []
  },
  {
   "cell_type": "code",
   "execution_count": 23,
   "id": "40732cc8",
   "metadata": {},
   "outputs": [
    {
     "data": {
      "text/html": [
       "<div>\n",
       "<style scoped>\n",
       "    .dataframe tbody tr th:only-of-type {\n",
       "        vertical-align: middle;\n",
       "    }\n",
       "\n",
       "    .dataframe tbody tr th {\n",
       "        vertical-align: top;\n",
       "    }\n",
       "\n",
       "    .dataframe thead th {\n",
       "        text-align: right;\n",
       "    }\n",
       "</style>\n",
       "<table border=\"1\" class=\"dataframe\">\n",
       "  <thead>\n",
       "    <tr style=\"text-align: right;\">\n",
       "      <th></th>\n",
       "      <th>id</th>\n",
       "      <th>f0</th>\n",
       "      <th>f1</th>\n",
       "      <th>f2</th>\n",
       "      <th>f3</th>\n",
       "      <th>f4</th>\n",
       "      <th>f5</th>\n",
       "      <th>f6</th>\n",
       "      <th>f7</th>\n",
       "      <th>f8</th>\n",
       "      <th>f9</th>\n",
       "      <th>f10</th>\n",
       "      <th>f11</th>\n",
       "      <th>treatment</th>\n",
       "      <th>preorder</th>\n",
       "    </tr>\n",
       "  </thead>\n",
       "  <tbody>\n",
       "    <tr>\n",
       "      <th>0</th>\n",
       "      <td>1</td>\n",
       "      <td>12.616365</td>\n",
       "      <td>10.059654</td>\n",
       "      <td>9.039539</td>\n",
       "      <td>4.679882</td>\n",
       "      <td>10.280525</td>\n",
       "      <td>4.115453</td>\n",
       "      <td>0.294443</td>\n",
       "      <td>4.833815</td>\n",
       "      <td>3.866188</td>\n",
       "      <td>13.190056</td>\n",
       "      <td>5.300375</td>\n",
       "      <td>-0.168679</td>\n",
       "      <td>1</td>\n",
       "      <td>0</td>\n",
       "    </tr>\n",
       "    <tr>\n",
       "      <th>1</th>\n",
       "      <td>2</td>\n",
       "      <td>13.087549</td>\n",
       "      <td>10.059654</td>\n",
       "      <td>8.214383</td>\n",
       "      <td>0.719526</td>\n",
       "      <td>10.280525</td>\n",
       "      <td>4.115453</td>\n",
       "      <td>-7.822229</td>\n",
       "      <td>4.833815</td>\n",
       "      <td>3.971858</td>\n",
       "      <td>13.190056</td>\n",
       "      <td>5.300375</td>\n",
       "      <td>-0.168679</td>\n",
       "      <td>1</td>\n",
       "      <td>0</td>\n",
       "    </tr>\n",
       "    <tr>\n",
       "      <th>2</th>\n",
       "      <td>3</td>\n",
       "      <td>23.336990</td>\n",
       "      <td>10.059654</td>\n",
       "      <td>8.214383</td>\n",
       "      <td>4.679882</td>\n",
       "      <td>10.280525</td>\n",
       "      <td>4.115453</td>\n",
       "      <td>-4.595460</td>\n",
       "      <td>4.833815</td>\n",
       "      <td>3.971858</td>\n",
       "      <td>13.190056</td>\n",
       "      <td>5.300375</td>\n",
       "      <td>-0.168679</td>\n",
       "      <td>1</td>\n",
       "      <td>0</td>\n",
       "    </tr>\n",
       "    <tr>\n",
       "      <th>3</th>\n",
       "      <td>4</td>\n",
       "      <td>22.709710</td>\n",
       "      <td>10.059654</td>\n",
       "      <td>8.214383</td>\n",
       "      <td>4.679882</td>\n",
       "      <td>10.280525</td>\n",
       "      <td>4.115453</td>\n",
       "      <td>-12.269776</td>\n",
       "      <td>4.833815</td>\n",
       "      <td>3.971858</td>\n",
       "      <td>13.190056</td>\n",
       "      <td>5.300375</td>\n",
       "      <td>-0.168679</td>\n",
       "      <td>1</td>\n",
       "      <td>0</td>\n",
       "    </tr>\n",
       "    <tr>\n",
       "      <th>4</th>\n",
       "      <td>5</td>\n",
       "      <td>26.270187</td>\n",
       "      <td>10.059654</td>\n",
       "      <td>8.214383</td>\n",
       "      <td>4.679882</td>\n",
       "      <td>10.280525</td>\n",
       "      <td>4.115453</td>\n",
       "      <td>-2.411115</td>\n",
       "      <td>4.833815</td>\n",
       "      <td>3.971858</td>\n",
       "      <td>13.190056</td>\n",
       "      <td>5.300375</td>\n",
       "      <td>-0.168679</td>\n",
       "      <td>1</td>\n",
       "      <td>0</td>\n",
       "    </tr>\n",
       "    <tr>\n",
       "      <th>5</th>\n",
       "      <td>6</td>\n",
       "      <td>22.077220</td>\n",
       "      <td>10.059654</td>\n",
       "      <td>8.808085</td>\n",
       "      <td>4.679882</td>\n",
       "      <td>10.280525</td>\n",
       "      <td>4.115453</td>\n",
       "      <td>-3.282109</td>\n",
       "      <td>4.833815</td>\n",
       "      <td>3.872698</td>\n",
       "      <td>13.190056</td>\n",
       "      <td>5.300375</td>\n",
       "      <td>-0.168679</td>\n",
       "      <td>1</td>\n",
       "      <td>0</td>\n",
       "    </tr>\n",
       "    <tr>\n",
       "      <th>6</th>\n",
       "      <td>7</td>\n",
       "      <td>12.616365</td>\n",
       "      <td>10.059654</td>\n",
       "      <td>8.446365</td>\n",
       "      <td>4.679882</td>\n",
       "      <td>10.280525</td>\n",
       "      <td>4.115453</td>\n",
       "      <td>0.294443</td>\n",
       "      <td>4.833815</td>\n",
       "      <td>3.902645</td>\n",
       "      <td>20.050937</td>\n",
       "      <td>5.300375</td>\n",
       "      <td>-0.168679</td>\n",
       "      <td>0</td>\n",
       "      <td>0</td>\n",
       "    </tr>\n",
       "    <tr>\n",
       "      <th>7</th>\n",
       "      <td>8</td>\n",
       "      <td>13.046728</td>\n",
       "      <td>10.059654</td>\n",
       "      <td>8.825776</td>\n",
       "      <td>3.907662</td>\n",
       "      <td>10.280525</td>\n",
       "      <td>4.115453</td>\n",
       "      <td>-11.495164</td>\n",
       "      <td>4.833815</td>\n",
       "      <td>3.866188</td>\n",
       "      <td>13.190056</td>\n",
       "      <td>5.300375</td>\n",
       "      <td>-0.168679</td>\n",
       "      <td>1</td>\n",
       "      <td>0</td>\n",
       "    </tr>\n",
       "    <tr>\n",
       "      <th>8</th>\n",
       "      <td>9</td>\n",
       "      <td>22.615245</td>\n",
       "      <td>10.059654</td>\n",
       "      <td>8.214383</td>\n",
       "      <td>4.679882</td>\n",
       "      <td>10.280525</td>\n",
       "      <td>4.115453</td>\n",
       "      <td>-3.993764</td>\n",
       "      <td>4.833815</td>\n",
       "      <td>3.971858</td>\n",
       "      <td>13.190056</td>\n",
       "      <td>5.300375</td>\n",
       "      <td>-0.168679</td>\n",
       "      <td>1</td>\n",
       "      <td>0</td>\n",
       "    </tr>\n",
       "    <tr>\n",
       "      <th>9</th>\n",
       "      <td>10</td>\n",
       "      <td>22.598413</td>\n",
       "      <td>10.059654</td>\n",
       "      <td>8.214383</td>\n",
       "      <td>4.679882</td>\n",
       "      <td>10.280525</td>\n",
       "      <td>4.115453</td>\n",
       "      <td>-2.411115</td>\n",
       "      <td>4.833815</td>\n",
       "      <td>3.971858</td>\n",
       "      <td>13.190056</td>\n",
       "      <td>5.300375</td>\n",
       "      <td>-0.168679</td>\n",
       "      <td>1</td>\n",
       "      <td>0</td>\n",
       "    </tr>\n",
       "  </tbody>\n",
       "</table>\n",
       "</div>"
      ],
      "text/plain": [
       "   id         f0         f1        f2        f3         f4        f5  \\\n",
       "0   1  12.616365  10.059654  9.039539  4.679882  10.280525  4.115453   \n",
       "1   2  13.087549  10.059654  8.214383  0.719526  10.280525  4.115453   \n",
       "2   3  23.336990  10.059654  8.214383  4.679882  10.280525  4.115453   \n",
       "3   4  22.709710  10.059654  8.214383  4.679882  10.280525  4.115453   \n",
       "4   5  26.270187  10.059654  8.214383  4.679882  10.280525  4.115453   \n",
       "5   6  22.077220  10.059654  8.808085  4.679882  10.280525  4.115453   \n",
       "6   7  12.616365  10.059654  8.446365  4.679882  10.280525  4.115453   \n",
       "7   8  13.046728  10.059654  8.825776  3.907662  10.280525  4.115453   \n",
       "8   9  22.615245  10.059654  8.214383  4.679882  10.280525  4.115453   \n",
       "9  10  22.598413  10.059654  8.214383  4.679882  10.280525  4.115453   \n",
       "\n",
       "          f6        f7        f8         f9       f10       f11  treatment  \\\n",
       "0   0.294443  4.833815  3.866188  13.190056  5.300375 -0.168679          1   \n",
       "1  -7.822229  4.833815  3.971858  13.190056  5.300375 -0.168679          1   \n",
       "2  -4.595460  4.833815  3.971858  13.190056  5.300375 -0.168679          1   \n",
       "3 -12.269776  4.833815  3.971858  13.190056  5.300375 -0.168679          1   \n",
       "4  -2.411115  4.833815  3.971858  13.190056  5.300375 -0.168679          1   \n",
       "5  -3.282109  4.833815  3.872698  13.190056  5.300375 -0.168679          1   \n",
       "6   0.294443  4.833815  3.902645  20.050937  5.300375 -0.168679          0   \n",
       "7 -11.495164  4.833815  3.866188  13.190056  5.300375 -0.168679          1   \n",
       "8  -3.993764  4.833815  3.971858  13.190056  5.300375 -0.168679          1   \n",
       "9  -2.411115  4.833815  3.971858  13.190056  5.300375 -0.168679          1   \n",
       "\n",
       "   preorder  \n",
       "0         0  \n",
       "1         0  \n",
       "2         0  \n",
       "3         0  \n",
       "4         0  \n",
       "5         0  \n",
       "6         0  \n",
       "7         0  \n",
       "8         0  \n",
       "9         0  "
      ]
     },
     "execution_count": 23,
     "metadata": {},
     "output_type": "execute_result"
    }
   ],
   "source": [
    "df_labeled.head(10)"
   ]
  },
  {
   "cell_type": "markdown",
   "id": "b5788357",
   "metadata": {},
   "source": [
    "## calculate the prob. on \n",
    "\n",
    "|    | pre-order (1) | do not pre-order (0) |\n",
    "| -------- | ------- | ------ |\n",
    "| 20% discount email (treatment) | P(1\\|DE) | P(0\\|DE) |"
   ]
  },
  {
   "cell_type": "markdown",
   "id": "12775ed5",
   "metadata": {},
   "source": [
    "## calculate the prob. on \n",
    "\n",
    "|    | pre-order (1) | do not pre-order (0) |\n",
    "| -------- | ------- | ------ |\n",
    "| regular email (control)  | P(1\\|RE) | P(0\\|RE) |"
   ]
  },
  {
   "cell_type": "code",
   "execution_count": 58,
   "id": "7b480014",
   "metadata": {},
   "outputs": [
    {
     "name": "stdout",
     "output_type": "stream",
     "text": [
      "the # of Event on (1|DE) :123643\n",
      "the # of Event on (1|RE) :17072\n",
      "the # of Event 3000000\n",
      "Effect=0.0857854938867968\n",
      "Since we just calculate what if sending the discount email to everyone\n",
      "Assume the probility is 1 \n",
      "Effect Decision Rule=941889.722395523\n"
     ]
    }
   ],
   "source": [
    "# Q1 use label the probability\n",
    "E_1_DE = df_labeled[(df_labeled[\"treatment\"] == 1) & (df_labeled[\"preorder\"] == 1)].shape[0]\n",
    "E_1_RE = df_labeled[(df_labeled[\"treatment\"] == 0) & (df_labeled[\"preorder\"] == 1)].shape[0]\n",
    "P_1_DE = E_1_DE / df_labeled[(df_labeled[\"treatment\"] == 1)].shape[0]\n",
    "P_1_RE = E_1_RE/ df_labeled[(df_labeled[\"treatment\"] == 0)].shape[0]\n",
    "\n",
    "print(f\"the # of Event on (1|DE) :{E_1_DE}\")\n",
    "print(f\"the # of Event on (1|RE) :{E_1_RE}\")\n",
    "print(f\"the # of Event {df_labeled.shape[0] }\")\n",
    "# Effect \n",
    "EVT = P_1_DE * 80  \n",
    "EVNT = P_1_RE * 100 \n",
    "effect = EVT - EVNT\n",
    "print(f\"Effect={effect}\")\n",
    "print(f\"Since we just calculate what if sending the discount email to everyone\")\n",
    "print(f\"Assume the probility is 1 \")\n",
    "# Effect of Decision Rule \n",
    "effect_decision_rule = 10979592*1*effect\n",
    "print(f\"Effect Decision Rule={effect_decision_rule}\")"
   ]
  },
  {
   "cell_type": "markdown",
   "id": "6885457d",
   "metadata": {},
   "source": [
    "Suppose the predictive models provided by 卡洛斯 can properly estimate the probability of pre-ordering for each individual. What decision rule (expressed as an inequality) should we use to decide which email to send? If the inequality is met, we send the discount email; otherwise, we send the regular email. Use Pt to represent the probability of pre-order with the discount email and Pc to represent the probability of pre-order with the regular email."
   ]
  },
  {
   "cell_type": "markdown",
   "id": "c64ba7d4",
   "metadata": {},
   "source": [
    "pt*80-pc*100>0"
   ]
  },
  {
   "cell_type": "markdown",
   "id": "ec1e9787",
   "metadata": {},
   "source": [
    "Apply your decision rule from the previous question to the test set using the predictions from the models provided by 卡洛斯. What percentage of individuals is targeted by your rule? Enter your answer as a rounded integer. For example, if the percentage is 32.23%, enter 32 (not 0.3223).\n"
   ]
  },
  {
   "cell_type": "markdown",
   "id": "16b9a7f4",
   "metadata": {},
   "source": [
    "Apply your decision rule from the previous question to the test set using the predictions from the models provided by 卡洛斯. What percentage of individuals is targeted by your rule? Enter your answer as a rounded integer. For example, if the percentage is 32.23%, enter 32 (not 0.3223)."
   ]
  },
  {
   "cell_type": "code",
   "execution_count": 6,
   "id": "8bd36a95",
   "metadata": {},
   "outputs": [],
   "source": [
    "# To calculate the individual probility\n",
    "treat_predict_prob = model_treat.predict_proba(X_te)\n",
    "\n",
    "control_predict_prob = model_control.predict_proba(X_te)\n"
   ]
  },
  {
   "cell_type": "code",
   "execution_count": 7,
   "id": "e871d3af",
   "metadata": {},
   "outputs": [],
   "source": [
    "# calculate the action \n",
    "# Calculate the values for column 'value'\n",
    "values = (treat_predict_prob[:, 1] * 80) - (control_predict_prob[:, 1] * 100)\n",
    "\n",
    "# Calculate the actions for column 'action'\n",
    "actions = [1 if value > 0 else 0 for value in values]\n",
    "\n",
    "# Create a DataFrame\n",
    "df_action = pd.DataFrame({'value': values, 'predict': actions,'real': y_te})\n",
    "\n",
    "df_passing_threhold = df_action[df_action[\"predict\"]==1]\n",
    "df_fail_threhold = df_action[df_action[\"predict\"]==0]"
   ]
  },
  {
   "cell_type": "code",
   "execution_count": 8,
   "id": "5d3f3ae0",
   "metadata": {},
   "outputs": [
    {
     "name": "stdout",
     "output_type": "stream",
     "text": [
      "the probility on sneding discount email=0.4190316666666667\n"
     ]
    }
   ],
   "source": [
    "P_on_sending_email =  df_passing_threhold.shape[0] / X_te.shape[0]\n",
    "\n",
    "print(f\"the probility on sneding discount email={P_on_sending_email}\")"
   ]
  },
  {
   "cell_type": "markdown",
   "id": "89f69287",
   "metadata": {},
   "source": [
    "What is the predicted average revenue effect after discounts for individuals targeted by your decision rule according to the models provided by 卡洛斯?"
   ]
  },
  {
   "cell_type": "markdown",
   "id": "78115b95",
   "metadata": {},
   "source": [
    "## calculate the prob. on \n",
    "\n",
    "|    | pre-order (1) | do not pre-order (0) |\n",
    "| -------- | ------- | ------ |\n",
    "| apply rule  | P(1\\|AD) | P(0\\|AD) |\n",
    "| do not apply rule  | P(1\\|DD) | P(0\\|DD) |"
   ]
  },
  {
   "cell_type": "code",
   "execution_count": null,
   "id": "8d305d11",
   "metadata": {},
   "outputs": [
    {
     "name": "stdout",
     "output_type": "stream",
     "text": [
      "mean of apply rule : 0.4825970321179226\n",
      "mean of do not apply rule : 0.4825970321179226\n",
      "avg_effect_predict: 1.213552117540828\n"
     ]
    }
   ],
   "source": [
    "\n",
    "\n",
    "mean_action_apply_rule = df_action[(df_action[\"predict\"]==1)][\"value\"].mean()\n",
    "mean_do_not_apply_rule = df_action[(df_action[\"predict\"]==0)][\"value\"].mean()\n",
    "print(f\"mean of apply rule : {mean_action_apply_rule}\")\n",
    "print(f\"mean of do not apply rule : {mean_action_apply_rule}\")\n",
    "\n",
    "avg_effect_predict = mean_action_apply_rule  - mean_do_not_apply_rule \n",
    "print(f\"avg_effect_predict: {avg_effect_predict}\")"
   ]
  },
  {
   "cell_type": "markdown",
   "id": "fd754129",
   "metadata": {},
   "source": [
    "Based on the treatment and preorder columns, what was the actual average revenue effect after discounts for those individuals targeted by your decision rule?"
   ]
  },
  {
   "cell_type": "code",
   "execution_count": 40,
   "id": "3a9bb0e8",
   "metadata": {},
   "outputs": [
    {
     "name": "stdout",
     "output_type": "stream",
     "text": [
      "mean of apply rule with pre order: 3.0530032725988647\n",
      "mean of apply rule without pre order: 0.38557314565383893\n",
      "mean of do not apply rule with pre order: -6.083961042773779\n",
      "mean of do not apply rule without pre order: -0.42635957764700205\n",
      "avg_effect_real_pre_order: 9.136964315372644\n"
     ]
    }
   ],
   "source": [
    "# all instance effect mean with effect > 0 \n",
    "mean_action_apply_rule_positive = df_action[(df_action[\"predict\"]==1) & (df_action[\"real\"]==1) ][\"value\"].mean()\n",
    "mean_action_apply_rule_negative = df_action[(df_action[\"predict\"]==1) & (df_action[\"real\"]==0) ][\"value\"].mean()\n",
    "mean_do_not_apply_rule_positive = df_action[(df_action[\"predict\"]==0) & (df_action[\"real\"]==1) ][\"value\"].mean()\n",
    "mean_do_not_apply_rule_negative = df_action[(df_action[\"predict\"]==0) & (df_action[\"real\"]==0) ][\"value\"].mean()\n",
    "\n",
    "print(f\"mean of apply rule with pre order: {mean_action_apply_rule_positive}\")\n",
    "print(f\"mean of apply rule without pre order: {mean_action_apply_rule_negative}\")\n",
    "print(f\"mean of do not apply rule with pre order: {mean_do_not_apply_rule_positive}\")\n",
    "print(f\"mean of do not apply rule without pre order: {mean_do_not_apply_rule_negative}\")\n",
    "\n",
    "\n",
    "avg_effect_real_pre_order = mean_action_apply_rule_positive - mean_do_not_apply_rule_positive\n",
    "print(f\"avg_effect_real_pre_order: {avg_effect_real_pre_order}\")"
   ]
  },
  {
   "cell_type": "markdown",
   "id": "707f155c",
   "metadata": {},
   "source": [
    "Which of the two values you provided earlier is more reliable for assessing the model's performance in decision-making? Justify your answer."
   ]
  },
  {
   "cell_type": "markdown",
   "id": "5ab07489",
   "metadata": {},
   "source": [
    "For the remaining 10,979,592, give your best estimate of the total revenue after applying discounts if Nosara were to use your decision rule to determine which customers receive discount emails versus regular emails. Enter your answer as a rounded integer (e.g., if the revenue is $1,034.32, enter 1034)."
   ]
  },
  {
   "cell_type": "code",
   "execution_count": 41,
   "id": "2beaf514",
   "metadata": {},
   "outputs": [
    {
     "name": "stdout",
     "output_type": "stream",
     "text": [
      "Effect of Decision Rule: 42037315.59070893\n"
     ]
    }
   ],
   "source": [
    "print(f\"Effect of Decision Rule: {10979592*P_on_sending_email*avg_effect_real_pre_order}\")"
   ]
  },
  {
   "cell_type": "markdown",
   "id": "84f391bd",
   "metadata": {},
   "source": [
    "Do you believe your current data-driven solution adds business value? Justify your answer."
   ]
  },
  {
   "cell_type": "markdown",
   "id": "87559560",
   "metadata": {},
   "source": []
  }
 ],
 "metadata": {
  "kernelspec": {
   "display_name": "base",
   "language": "python",
   "name": "python3"
  },
  "language_info": {
   "codemirror_mode": {
    "name": "ipython",
    "version": 3
   },
   "file_extension": ".py",
   "mimetype": "text/x-python",
   "name": "python",
   "nbconvert_exporter": "python",
   "pygments_lexer": "ipython3",
   "version": "3.9.13"
  }
 },
 "nbformat": 4,
 "nbformat_minor": 5
}
