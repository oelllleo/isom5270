{
 "cells": [
  {
   "cell_type": "markdown",
   "id": "71b5922e",
   "metadata": {},
   "source": [
    "# Introduction \n",
    "You just accepted a job at CausalMarketing, a firm that offers marketing consulting services. \n",
    "For your first assignment, you've been tasked with helping a large online clothing store, Nosara, with their targeted advertising campaign.\n",
    "\n",
    "\n",
    "Nosara is promoting a new handbag model priced at ***$100***, which is not yet available for sale. \n",
    "\n",
    "They randomly selected 3 million past customers and sent them emails offering the opportunity to pre-order the handbag. \n",
    "\n",
    "These customers were divided into two groups: \n",
    "***one received only the pre-order invitation (control group)***, and \n",
    "***the other received a 20% discount if they pre-ordered (treatment group)***. \n",
    "Each email allows the purchase of ***a single handbag***.\n",
    "\n",
    "Nosara has ***10,979,592*** past customers who haven't been emailed yet. \n",
    "They want you to help them design a data-driven solution to \n",
    "decide which of these customers should ***receive a discount email*** and which should ***receive a regular email*** to ***maximize*** sales after discounts.\n",
    "\n",
    "Nosara has shared two datasets:\n",
    "\n",
    "one of customers who have already been emailed (nosara_labeled) and another of customers not yet emailed (nosara_unlabeled). The fields are:\n",
    "\n",
    "Features (all numeric): f0, f1, f2, f3, f4, f5, f6, f7, f8, f9, f10, f11\n",
    "\n",
    "treatment: Indicates group (1 = treated, 0 = control). \n",
    "\n",
    "preorder: Indicates if the customer pre-ordered (1=Yes, 0=No).\n",
    "\n",
    "Note: Feature names were anonymized, and their values randomly projected to keep their predictive power without risking the privacy of Nosara’s customer base."
   ]
  },
  {
   "cell_type": "markdown",
   "id": "7fd0fab6",
   "metadata": {},
   "source": [
    "## Analysis\n",
    "\n",
    "#### Business understanding \n",
    "\n",
    "Need to help the company to decide who need to receive the promotion emails to maximum the profits \n",
    "so the Benefit > cost \n",
    "\n",
    "#### Cost and Benefit martix \n",
    "\n",
    "|    | pre-order (1) | do not pre-order (0) |\n",
    "| -------- | ------- | ------ |\n",
    "| regular email   | BC = 100| 0 |\n",
    "| 20% discount email| BC - DC = 80 | 0 |\n",
    "\n",
    "Bag Cost(BC) : 100\n",
    "\n",
    "Discount Cost(DC) : 20\n",
    "\n",
    "#### Decision need to make \n",
    "10,979,592\n",
    "\n",
    "#### what possbility we have \n",
    "\n",
    "|    | pre-order (1) | do not pre-order (0) |\n",
    "| -------- | ------- | ------ |\n",
    "| regular email (control)  | P(1\\|RE) | P(0\\|RE) |\n",
    "| 20% discount email (treatment) | P(1\\|DE) | P(0\\|DE) |\n",
    "\n",
    "P(1|RE) = from control group\n",
    "\n",
    "P(0|RE) = from control group\n",
    "\n",
    "P(1|DE) = from treatment group\n",
    "\n",
    "P(0|DE) = from treatment group"
   ]
  },
  {
   "cell_type": "markdown",
   "id": "5894718e",
   "metadata": {},
   "source": [
    "#### Understand the business \n",
    "\n",
    "Nothing . just know it selling the bag witgh pre-order and want to get the maximum value"
   ]
  },
  {
   "cell_type": "markdown",
   "id": "a6f42620",
   "metadata": {},
   "source": [
    "#### Understand the data \n",
    "\n",
    "2 datasets and group \n",
    "\n",
    "##### Group:\n",
    "\n",
    "***one received only the pre-order invitation (control group)***  \n",
    "\n",
    "***the other received a 20% discount if they pre-ordered (treatment group)***. \n",
    "\n",
    "##### Data: \n",
    "\n",
    "***receive a discount email***  (nosara_labeled)\n",
    "\n",
    "***receive a regular email***   (nosara_unlabeled)"
   ]
  },
  {
   "cell_type": "markdown",
   "id": "7adeca9b",
   "metadata": {},
   "source": [
    "#### Modeling\n",
    "Nth to do modeling is provided \n",
    "\n"
   ]
  },
  {
   "cell_type": "code",
   "execution_count": 1,
   "id": "a70d6d53-c1ba-41ce-b14f-3ebb32ea8f00",
   "metadata": {},
   "outputs": [
    {
     "name": "stdout",
     "output_type": "stream",
     "text": [
      "Done!\n"
     ]
    }
   ],
   "source": [
    "import pandas as pd\n",
    "from sklearn.model_selection import train_test_split\n",
    "from sklearn import preprocessing\n",
    "from sklearn.linear_model import LogisticRegression\n",
    "\n",
    "# Load Data\n",
    "df_labeled = pd.read_csv(\"nosara_labeled.csv\")\n",
    "df_unlabeled = pd.read_csv(\"nosara_unlabeled.csv\")\n",
    "\n",
    "# Pre-process data\n",
    "feature_names = ['f0','f1','f2','f3','f4','f5','f6','f7','f8','f9','f10','f11']\n",
    "X = df_labeled[feature_names]\n",
    "y = df_labeled.preorder\n",
    "t = df_labeled.treatment\n",
    "scaler = preprocessing.StandardScaler().fit(X)\n",
    "X = scaler.transform(X)\n",
    "X_unlabeled = scaler.transform(df_unlabeled[feature_names])\n",
    "\n",
    "# Split data\n",
    "X_tr, X_te, y_tr, y_te, t_tr, t_te = train_test_split(X, y, t, test_size=0.2, random_state=1337)\n",
    "\n",
    "# Data is large, so be patient with the training. \n",
    "# Model for treated\n",
    "model_treat = LogisticRegression().fit(X_tr[t_tr==1],y_tr[t_tr==1])\n",
    "# Model for control\n",
    "model_control = LogisticRegression().fit(X_tr[t_tr==0],y_tr[t_tr==0])\n",
    "print(\"Done!\")"
   ]
  },
  {
   "cell_type": "markdown",
   "id": "089ad571",
   "metadata": {},
   "source": []
  },
  {
   "cell_type": "code",
   "execution_count": 2,
   "id": "7b671191",
   "metadata": {},
   "outputs": [],
   "source": [
    "# output the prediction in treatment\n",
    "treat_predict=model_treat.predict(X_te[t_te==1])\n"
   ]
  },
  {
   "cell_type": "markdown",
   "id": "b5788357",
   "metadata": {},
   "source": [
    "## calculate the prob. on \n",
    "\n",
    "|    | pre-order (1) | do not pre-order (0) |\n",
    "| -------- | ------- | ------ |\n",
    "| 20% discount email (treatment) | P(1\\|DE) | P(0\\|DE) |"
   ]
  },
  {
   "cell_type": "code",
   "execution_count": null,
   "id": "407961fd",
   "metadata": {},
   "outputs": [
    {
     "name": "stdout",
     "output_type": "stream",
     "text": [
      "test case size on E(1|RE) = 509834\n",
      "confusion matrix is :\n",
      "[[TN, FP],\n",
      "[FN, TP]]\n",
      "[[480075  16702]\n",
      " [  5273   7784]]\n",
      "so the P(1|DE) = (E(1|FP,DE) + E(1|TP,DE))/E(1|DE)\n",
      "P(1|DE)=0.04802739715279875\n",
      "so the P(0|RE) = (E(TN|0|RE) + E(FN|0|RE))/E(1|RE)\n",
      "P(0|DE)=0.9519726028472012\n"
     ]
    }
   ],
   "source": [
    "from sklearn.metrics import confusion_matrix\n",
    "cm_treat = confusion_matrix(treat_predict, y_te[t_te==1])\n",
    "print(\"test case size on E(1|RE) = {}\".format(treat_predict.shape[0]))\n",
    "print(\"confusion matrix is :\")\n",
    "print(\"[[TN, FP],\")\n",
    "print(\"[FN, TP]]\")\n",
    "print(cm_treat)\n",
    "print(\"so the P(1|DE) = (E(1|FP,DE) + E(1|TP,DE))/E(1|DE)\")\n",
    "P_1_DE = (cm_treat[0,1]+cm_treat[1,1])/treat_predict.shape[0]\n",
    "print(f\"P(1|DE)={P_1_DE}\")\n",
    "print(\"so the P(0|DE) = (E(TN|0,DE) + E(FN|0,DE))/E(1|DE)\")\n",
    "P_0_DE = (cm_treat[0,0]+cm_treat[1,0])/treat_predict.shape[0]\n",
    "print(f\"P(0|DE)={P_0_DE}\")\n"
   ]
  },
  {
   "cell_type": "markdown",
   "id": "12775ed5",
   "metadata": {},
   "source": [
    "## calculate the prob. on \n",
    "\n",
    "|    | pre-order (1) | do not pre-order (0) |\n",
    "| -------- | ------- | ------ |\n",
    "| regular email (control)  | P(1\\|RE) | P(0\\|RE) |"
   ]
  },
  {
   "cell_type": "code",
   "execution_count": 59,
   "id": "6b84c4a5",
   "metadata": {},
   "outputs": [
    {
     "name": "stdout",
     "output_type": "stream",
     "text": [
      "test case size on E(1|RE) = 90166\n",
      "confusion matrix is :\n",
      "[[TN, FP],\n",
      "[FN, TP]]\n",
      "[[86060  2549]\n",
      " [  680   877]]\n",
      "so the P(1|RE) = (E(1|FP,RE) + E(1|TP,RE))/E(1|RE)\n",
      "P(1|RE)=0.03799658407825566\n",
      "so the P(0|RE) = (E(TN|0|RE) + E(FN|0|RE))/E(1|RE)\n",
      "P(0|DE)=0.9620034159217443\n"
     ]
    }
   ],
   "source": [
    "# output the prediction in treatment\n",
    "control_predict=model_control.predict(X_te[t_te==0])\n",
    "cm_control = confusion_matrix(control_predict, y_te[t_te==0])\n",
    "print(\"test case size on E(1|RE) = {}\".format(control_predict.shape[0]))\n",
    "print(\"confusion matrix is :\")\n",
    "print(\"[[TN, FP],\")\n",
    "print(\"[FN, TP]]\")\n",
    "print(cm_control)\n",
    "print(\"so the P(1|RE) = (E(1|FP,RE) + E(1|TP,RE))/E(1|RE)\")\n",
    "P_1_RE = (cm_control[0,1]+cm_control[1,1])/control_predict.shape[0]\n",
    "print(f\"P(1|RE)={P_1_RE}\")\n",
    "print(\"so the P(0|RE) = (E(TN|0|RE) + E(FN|0|RE))/E(1|RE)\")\n",
    "P_0_RE = (cm_control[0,0]+cm_control[1,0])/control_predict.shape[0]\n",
    "print(f\"P(0|DE)={P_0_RE}\")\n"
   ]
  },
  {
   "cell_type": "code",
   "execution_count": 63,
   "id": "7b480014",
   "metadata": {},
   "outputs": [
    {
     "name": "stdout",
     "output_type": "stream",
     "text": [
      "Effect=0.04253336439833433\n",
      "Since we just calculate what if sending the discount email to everyone\n",
      "Assume the probility is 1 \n",
      "Effect Decision_Rule=466998.9874810364\n"
     ]
    }
   ],
   "source": [
    "# Effect \n",
    "effect = P_1_DE * 80 - P_1_RE * 100\n",
    "print(f\"Effect={effect}\")\n",
    "# # prob pn P(1)\n",
    "# print(f\"E(1) = E(1|RE)+E(1|DE)\")\n",
    "# E_1_DE = cm_treat[0,1]+cm_treat[1,1]\n",
    "# E_1 = E_1_DE \n",
    "# print(f\"# of events sending discount email={E_1}\")\n",
    "# print(f\"# of events sending email={X_te.shape[0]}\")\n",
    "# P_1 = E_1/X_te.shape[0]\n",
    "# print(f\"P(send discount email)={P_1}\")\n",
    "print(f\"Since we just calculate what if sending the discount email to everyone\")\n",
    "print(f\"Assume the probility is 1 \")\n",
    "# Effect of Decision Rule \n",
    "effect_decision_rule = 10979592*1*effect\n",
    "print(f\"Effect Decision_Rule={effect_decision_rule}\")"
   ]
  },
  {
   "cell_type": "markdown",
   "id": "6885457d",
   "metadata": {},
   "source": [
    "Suppose the predictive models provided by 卡洛斯 can properly estimate the probability of pre-ordering for each individual. What decision rule (expressed as an inequality) should we use to decide which email to send? If the inequality is met, we send the discount email; otherwise, we send the regular email. Use Pt to represent the probability of pre-order with the discount email and Pc to represent the probability of pre-order with the regular email."
   ]
  },
  {
   "cell_type": "markdown",
   "id": "c64ba7d4",
   "metadata": {},
   "source": [
    "pt*80-pc*100>0"
   ]
  },
  {
   "cell_type": "markdown",
   "id": "ec1e9787",
   "metadata": {},
   "source": [
    "Apply your decision rule from the previous question to the test set using the predictions from the models provided by 卡洛斯. What percentage of individuals is targeted by your rule? Enter your answer as a rounded integer. For example, if the percentage is 32.23%, enter 32 (not 0.3223).\n"
   ]
  },
  {
   "cell_type": "markdown",
   "id": "16b9a7f4",
   "metadata": {},
   "source": [
    "Apply your decision rule from the previous question to the test set using the predictions from the models provided by 卡洛斯. What percentage of individuals is targeted by your rule? Enter your answer as a rounded integer. For example, if the percentage is 32.23%, enter 32 (not 0.3223)."
   ]
  },
  {
   "cell_type": "code",
   "execution_count": 87,
   "id": "8bd36a95",
   "metadata": {},
   "outputs": [],
   "source": [
    "# To calculate the individual probility\n",
    "treat_predict_prob = model_treat.predict_proba(X_te)\n",
    "\n",
    "control_predict_prob = model_control.predict_proba(X_te)\n"
   ]
  },
  {
   "cell_type": "code",
   "execution_count": 88,
   "id": "e871d3af",
   "metadata": {},
   "outputs": [],
   "source": [
    "# calculate the action \n",
    "# Calculate the values for column 'value'\n",
    "values = (treat_predict_prob[:, 1] * 80) - (control_predict_prob[:, 1] * 100)\n",
    "\n",
    "# Calculate the actions for column 'action'\n",
    "actions = [1 if value > 0 else 0 for value in values]\n",
    "\n",
    "# Create a DataFrame\n",
    "df_action = pd.DataFrame({'value': values, 'predict': actions,'real': y_te})\n",
    "\n",
    "df_passing_threhold = df_action[df_action[\"predict\"]==1]\n",
    "df_fail_threhold = df_action[df_action[\"predict\"]==0]"
   ]
  },
  {
   "cell_type": "code",
   "execution_count": 89,
   "id": "5d3f3ae0",
   "metadata": {},
   "outputs": [
    {
     "name": "stdout",
     "output_type": "stream",
     "text": [
      "the probility on sneding discount email=0.4190316666666667\n"
     ]
    }
   ],
   "source": [
    "P_on_sending_email =  df_passing_threhold.shape[0] / X_te.shape[0]\n",
    "\n",
    "print(f\"the probility on sneding discount email={P_on_sending_email}\")"
   ]
  },
  {
   "cell_type": "markdown",
   "id": "89f69287",
   "metadata": {},
   "source": [
    "What is the predicted average revenue effect after discounts for individuals targeted by your decision rule according to the models provided by 卡洛斯?"
   ]
  },
  {
   "cell_type": "markdown",
   "id": "78115b95",
   "metadata": {},
   "source": [
    "## calculate the prob. on \n",
    "\n",
    "|    | pre-order (1) | do not pre-order (0) |\n",
    "| -------- | ------- | ------ |\n",
    "| apply rule  | P(1\\|AD) | P(0\\|AD) |\n",
    "| do not apply rule  | P(1\\|DD) | P(0\\|DD) |"
   ]
  },
  {
   "cell_type": "code",
   "execution_count": 95,
   "id": "8d305d11",
   "metadata": {},
   "outputs": [
    {
     "name": "stdout",
     "output_type": "stream",
     "text": [
      "size of apply rule : 251419\n",
      "size of do not apply rule : 348581\n",
      "avg_effect: -24.574299999999994\n"
     ]
    }
   ],
   "source": [
    "df_action_apply_rule = df_action[(df_action[\"predict\"]==1)]\n",
    "df_do_not_apply_rule = df_action[(df_action[\"predict\"]==0)]\n",
    "\n",
    "print(f\"size of apply rule : {df_action_apply_rule.shape[0]}\")\n",
    "print(f\"size of do not apply rule : {df_do_not_apply_rule.shape[0]}\")\n",
    "\n",
    "p_action_apply_rule = df_action_apply_rule.shape[0] / df_action.shape[0]\n",
    "p_do_not_apply_rule = df_do_not_apply_rule.shape[0] / df_action.shape[0]\n",
    "\n",
    "avg_effect = p_action_apply_rule * 80 - p_do_not_apply_rule*100\n",
    "print(f\"avg_effect: {avg_effect}\")\n",
    "# print(f\"Effect of Decision Rule: {10979592*P_on_sending_email*avg_effect}\")"
   ]
  },
  {
   "cell_type": "markdown",
   "id": "fd754129",
   "metadata": {},
   "source": [
    "Based on the treatment and preorder columns, what was the actual average revenue effect after discounts for those individuals targeted by your decision rule?"
   ]
  },
  {
   "cell_type": "code",
   "execution_count": 94,
   "id": "3a9bb0e8",
   "metadata": {},
   "outputs": [
    {
     "name": "stdout",
     "output_type": "stream",
     "text": [
      "size of apply rule with pre order: 9145\n",
      "size of apply rule without pre order: 242274\n",
      "size of do not apply rule with pre order: 18767\n",
      "size of do not apply rule without pre order: 329814\n",
      "avg_effect: -1.9084999999999999\n"
     ]
    }
   ],
   "source": [
    "df_action_apply_rule_positive = df_action[(df_action[\"predict\"]==1) & (df_action[\"real\"]==1) ]\n",
    "df_action_apply_rule_negative = df_action[(df_action[\"predict\"]==1) & (df_action[\"real\"]==0) ]\n",
    "df_do_not_apply_rule_positive = df_action[(df_action[\"predict\"]==0) & (df_action[\"real\"]==1) ]\n",
    "df_do_not_apply_rule_negative = df_action[(df_action[\"predict\"]==0) & (df_action[\"real\"]==0) ]\n",
    "\n",
    "print(f\"size of apply rule with pre order: {df_action_apply_rule_positive.shape[0]}\")\n",
    "print(f\"size of apply rule without pre order: {df_action_apply_rule_negative.shape[0]}\")\n",
    "print(f\"size of do not apply rule with pre order: {df_do_not_apply_rule_positive.shape[0]}\")\n",
    "print(f\"size of do not apply rule without pre order: {df_do_not_apply_rule_negative.shape[0]}\")\n",
    "\n",
    "p_apply_rule_positive = df_action_apply_rule_positive.shape[0] / df_action.shape[0]\n",
    "p_apply_rule_negative = df_action_apply_rule_negative.shape[0] / df_action.shape[0]\n",
    "p_do_not_apply_rule_positive = df_do_not_apply_rule_positive.shape[0] / df_action.shape[0]\n",
    "\n",
    "avg_effect = p_apply_rule_positive * 80 - p_do_not_apply_rule_positive*100\n",
    "print(f\"avg_effect: {avg_effect}\")\n",
    "# print(f\"Effect of Decision Rule: {10979592*P_on_sending_email*avg_effect}\")"
   ]
  },
  {
   "cell_type": "markdown",
   "id": "707f155c",
   "metadata": {},
   "source": [
    "Which of the two values you provided earlier is more reliable for assessing the model's performance in decision-making? Justify your answer."
   ]
  },
  {
   "cell_type": "markdown",
   "id": "5ab07489",
   "metadata": {},
   "source": [
    "For the remaining 10,979,592, give your best estimate of the total revenue after applying discounts if Nosara were to use your decision rule to determine which customers receive discount emails versus regular emails. Enter your answer as a rounded integer (e.g., if the revenue is $1,034.32, enter 1034)."
   ]
  },
  {
   "cell_type": "code",
   "execution_count": 96,
   "id": "2beaf514",
   "metadata": {},
   "outputs": [
    {
     "name": "stdout",
     "output_type": "stream",
     "text": [
      "Effect of Decision Rule: -113061359.20687641\n"
     ]
    }
   ],
   "source": [
    "print(f\"Effect of Decision Rule: {10979592*P_on_sending_email*avg_effect}\")"
   ]
  },
  {
   "cell_type": "markdown",
   "id": "84f391bd",
   "metadata": {},
   "source": [
    "Do you believe your current data-driven solution adds business value? Justify your answer."
   ]
  },
  {
   "cell_type": "markdown",
   "id": "87559560",
   "metadata": {},
   "source": []
  }
 ],
 "metadata": {
  "kernelspec": {
   "display_name": "base",
   "language": "python",
   "name": "python3"
  },
  "language_info": {
   "codemirror_mode": {
    "name": "ipython",
    "version": 3
   },
   "file_extension": ".py",
   "mimetype": "text/x-python",
   "name": "python",
   "nbconvert_exporter": "python",
   "pygments_lexer": "ipython3",
   "version": "3.9.12"
  }
 },
 "nbformat": 4,
 "nbformat_minor": 5
}
