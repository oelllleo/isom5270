{
 "cells": [
  {
   "cell_type": "markdown",
   "metadata": {},
   "source": [
    "# Jupyter notebooks"
   ]
  },
  {
   "cell_type": "markdown",
   "metadata": {},
   "source": [
    "## Python\n",
    "\n",
    "Python is a programming language that has been growing in popularity in recent years. There are many reasons for this, but it mostly comes down to Python being easy to learn and use as well as the fact that Python has a very active community that continually develops and improves amazing extensions to Python!\n",
    "\n",
    "Python has become one of the most frequently used languages in the world of data science due to the ability to almost instantly apply it to a large number of data science problems. When asking stakeholders in companies in different industries and of various sizes what language they would like their data scientists to know when coming in, Python is a consistently popular choice. If you are going to learn one programming language (something everyone should do!), Python would be a great choice.\n",
    "\n",
    "From this language, other packages have been created: Jupyter, Pandas, Numpy, Matplotlib, and others that we will be useful during this course.\n"
   ]
  },
  {
   "cell_type": "markdown",
   "metadata": {
    "collapsed": true,
    "jupyter": {
     "outputs_hidden": true
    }
   },
   "source": [
    "## Jupyter notebooks\n",
    "\n",
    "One extremely useful tool for modern data analytics is Jupyter, which incorporates \"Jupyter notebooks\". For a quick introduction on Jupyter notebooks, you may want to check out this video: https://www.youtube.com/watch?v=jZ952vChhuI\n",
    "\n",
    "A Jupyter notebook is an interactive computational environment, in which you can combine code execution, rich text, mathematics, plots and rich media. It is a web application that allows you to create and share documents that contain live code, equations, visualizations and explanatory text. Uses include: data cleaning and transformation, numerical simulation, statistical modeling, machine learning and much more.\n",
    "\n",
    "- Language: The Jupyter Notebook has support for over 40 programming languages, including those popular in Data Science such as Python and R.\n",
    "\n",
    "- Sharing: Notebooks can be shared with others using email, Dropbox, GitHub and the Jupyter Notebook Viewer.\n",
    "\n",
    "- Widgets (apps): Code can produce rich output such as images, videos, LaTeX, and JavaScript. Interactive widgets can be used to manipulate and visualize data in realtime.\n",
    "\n",
    "\n",
    "Jupyter notebooks are made up of cells. There are two basics types of entries in an Jupyter notebook: **text cells** for comments, and **code cells** (commands). You can edit a cell by double clicking on it. You can get it back to the display mode (run a cell) by pressing the \"Run\" (▶|) button, and you can also stop it with the \"square\" ◼︎ . Basically, all the tasks for cells can be found in the tool bar.  Try it now!  Doubleclick this cell, then click the play button above. We'll explain what you just saw in a minute.\n",
    "\n",
    "\n",
    "For more details on the Jupyter Notebook, please see the Jupyter website http://jupyter.org/"
   ]
  },
  {
   "cell_type": "markdown",
   "metadata": {},
   "source": [
    "## Text cells in a Jupyter notebook"
   ]
  },
  {
   "cell_type": "markdown",
   "metadata": {},
   "source": [
    "To write text in a cell we select the cell and go to the toolbar to change it from \"code\" to \"markdown\" (**Markdown** is a formatting language for making text look more fancy). Doubleclick on this cell to see the markdown version.  Run the cell to see the formatted version.\n",
    "\n",
    "Now, you can write and do text formatting:\n",
    "\n",
    "- Hashtag (number sign) is useful \\# for titles\n",
    "- Simple \\*asterisk\\* or \\_underscores\\_ to emphasize things: _example_.\n",
    "- Backslash (\\\\) to get those special characters not to act special (like in the preceeding).\n",
    "- Double **asterisks** to make things bold. \n",
    "- Square Brackets [ ] are for links and images\n",
    "- Also, HTML code is allowed. Some resources can be found in [HTML w3schools](http://www.w3schools.com/html/html_examples.asp) <p style=\"color:red;\">This is text formatted with HTML.</p>\n",
    "\n",
    "- And you can write math with $\\LaTeX$ (latex is a typesetting language for the production of scientific documents https://www.latex-project.org/): You use latex in Jupyter notebook markdown cells by wrapping the latex code in dollar signs, $x = \\frac{-b \\pm \\sqrt{b^2 - 4ac}}{2a}$. If you don't know how to write a symbol, you can go to [Detexify](http://detexify.kirelabs.org/classify.html).\n",
    "\n",
    "\n",
    "\n",
    "\n",
    "\n",
    "If you are ever stuck because you don't know how to format some text, just Google **\"Markdown syntax\"**."
   ]
  },
  {
   "cell_type": "markdown",
   "metadata": {},
   "source": [
    "## Code cells\n",
    "\n",
    "Now, let's take a look at a code cell (this is the default type of a Jupyter cell). In a code cell, we can type any Python commands, running them by clicking \"Run\" in the toolbar. When we \"run\" a cell, the code in it is executed and it returns whatever is the result of running a code.  (Maybe an error!) Code cells will always start with \"`In [ ]:`\". \n",
    "\n",
    "We build our Jupyter notebooks with successive code cells, often interspersed with notes, images, and so on.  Because of this, it is important to think of your notebook as a whole, and not just the individual cells.\n",
    "\n",
    "Importantly, some of the results of running a cell are \"remembered\" for subsequent cells, as long as the session continues running.  Usually the session keeps running as long as you don't stop your instance and you keep the notebook window open.  Sometimes when you get errors in running your cells, it's because something from a prior cell was forgotten for some reason.  If you look above under the dropdown menu Kernel above, you'll see that there are options for clearing your outputs, re-running all the cells, etc.\n",
    "\n",
    "For example, in the following cell, it will remember that the **_VARIABLE_** called \"x\" is  the sum of two given numbers.  Once you run that cell, variable \"x\" will be available for use in cells below. Please select it and press the ▶| button to run it.  Then select the following cell and run it."
   ]
  },
  {
   "cell_type": "code",
   "execution_count": 2,
   "metadata": {},
   "outputs": [
    {
     "name": "stdout",
     "output_type": "stream",
     "text": [
      "The value of the 'x' variable is 10.\n"
     ]
    }
   ],
   "source": [
    "x = 5 + 5\n",
    "print (\"The value of the 'x' variable is \" + str(x) + \".\")"
   ]
  },
  {
   "cell_type": "code",
   "execution_count": 3,
   "metadata": {},
   "outputs": [
    {
     "name": "stdout",
     "output_type": "stream",
     "text": [
      "The value of the 'x' variable is *still* 10 down here.\n"
     ]
    }
   ],
   "source": [
    "print(\"The value of the 'x' variable is *still* \" + str(x) + \" down here.\")"
   ]
  },
  {
   "cell_type": "markdown",
   "metadata": {},
   "source": [
    "Go back to those two cells and change some things and then rerun them.\n",
    "\n",
    "_Note_: Instead of having to manually go and click the \"Run\" button every time, you can also run a cell with your keyboard (*much easier!*). Just press **Ctrl + Enter** or **Shift + Enter**. Experiment with both of those to see what the difference is.\n",
    "\n",
    "Again, since it's important, Jupyter notebooks flow from **top to bottom**. This means that if a cell relies on a variable or function that was created earlier in the notebook, you must run the prior cell to make that information available in future cells  (_we cannot just call \"x\" in other cell if we don't run this one before_)! Try restarting and clearing all outputs (from the Kernel menu above), and then just run that last cell.  You should get an error sayint that it doesn't know what \"x\" is.\n",
    "\n",
    "_Note_: The number in the \"In [#]:\" statement will always increase by one for every time you run a code cell -- even if it's an error or you rerun the same cell.\n",
    "\n",
    "Note that there are plenty of other more powerful text editors that provide other tools to boost productivity. Jupyter is convenient and easy to use, but if you've got a lot of code to write, you may consider [Atom](https://atom.io/) or [Sublime](https://www.sublimetext.com/2), both of which have a shallow learning curve. Personally, I prefer [PyCharm](https://www.jetbrains.com/pycharm/) to write Python scripts, which is also quite simple to use."
   ]
  }
 ],
 "metadata": {
  "anaconda-cloud": {},
  "kernelspec": {
   "display_name": "Python 3",
   "language": "python",
   "name": "python3"
  },
  "language_info": {
   "codemirror_mode": {
    "name": "ipython",
    "version": 3
   },
   "file_extension": ".py",
   "mimetype": "text/x-python",
   "name": "python",
   "nbconvert_exporter": "python",
   "pygments_lexer": "ipython3",
   "version": "3.12.1"
  }
 },
 "nbformat": 4,
 "nbformat_minor": 4
}
